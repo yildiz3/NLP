{
 "cells": [
  {
   "cell_type": "markdown",
   "metadata": {
    "id": "Z3hO1LT4m8xM"
   },
   "source": [
    "# Fine Tuning For BERT Models with TPU"
   ]
  },
  {
   "cell_type": "code",
   "execution_count": 5,
   "metadata": {
    "colab": {
     "base_uri": "https://localhost:8080/",
     "height": 356
    },
    "id": "uuM1yGIv3C7Q",
    "outputId": "29db6cb7-a50c-4a14-a3c0-558d48d985c5"
   },
   "outputs": [
    {
     "ename": "KeyError",
     "evalue": "ignored",
     "output_type": "error",
     "traceback": [
      "\u001b[0;31m---------------------------------------------------------------------------\u001b[0m",
      "\u001b[0;31mKeyError\u001b[0m                                  Traceback (most recent call last)",
      "\u001b[0;32m<ipython-input-5-1ff23cc2a68e>\u001b[0m in \u001b[0;36m<module>\u001b[0;34m\u001b[0m\n\u001b[1;32m      3\u001b[0m \u001b[0;34m\u001b[0m\u001b[0m\n\u001b[1;32m      4\u001b[0m \u001b[0;31m# Note that the `tpu` argument is for Colab-only\u001b[0m\u001b[0;34m\u001b[0m\u001b[0;34m\u001b[0m\u001b[0;34m\u001b[0m\u001b[0m\n\u001b[0;32m----> 5\u001b[0;31m \u001b[0mresolver\u001b[0m \u001b[0;34m=\u001b[0m \u001b[0mtf\u001b[0m\u001b[0;34m.\u001b[0m\u001b[0mdistribute\u001b[0m\u001b[0;34m.\u001b[0m\u001b[0mcluster_resolver\u001b[0m\u001b[0;34m.\u001b[0m\u001b[0mTPUClusterResolver\u001b[0m\u001b[0;34m(\u001b[0m\u001b[0mtpu\u001b[0m\u001b[0;34m=\u001b[0m\u001b[0;34m'grpc://'\u001b[0m \u001b[0;34m+\u001b[0m \u001b[0mos\u001b[0m\u001b[0;34m.\u001b[0m\u001b[0menviron\u001b[0m\u001b[0;34m[\u001b[0m\u001b[0;34m'COLAB_TPU_ADDR'\u001b[0m\u001b[0;34m]\u001b[0m\u001b[0;34m)\u001b[0m\u001b[0;34m\u001b[0m\u001b[0;34m\u001b[0m\u001b[0m\n\u001b[0m\u001b[1;32m      6\u001b[0m \u001b[0;34m\u001b[0m\u001b[0m\n\u001b[1;32m      7\u001b[0m \u001b[0mtf\u001b[0m\u001b[0;34m.\u001b[0m\u001b[0mconfig\u001b[0m\u001b[0;34m.\u001b[0m\u001b[0mexperimental_connect_to_cluster\u001b[0m\u001b[0;34m(\u001b[0m\u001b[0mresolver\u001b[0m\u001b[0;34m)\u001b[0m\u001b[0;34m\u001b[0m\u001b[0;34m\u001b[0m\u001b[0m\n",
      "\u001b[0;32m/usr/lib/python3.7/os.py\u001b[0m in \u001b[0;36m__getitem__\u001b[0;34m(self, key)\u001b[0m\n\u001b[1;32m    679\u001b[0m         \u001b[0;32mexcept\u001b[0m \u001b[0mKeyError\u001b[0m\u001b[0;34m:\u001b[0m\u001b[0;34m\u001b[0m\u001b[0;34m\u001b[0m\u001b[0m\n\u001b[1;32m    680\u001b[0m             \u001b[0;31m# raise KeyError with the original key value\u001b[0m\u001b[0;34m\u001b[0m\u001b[0;34m\u001b[0m\u001b[0;34m\u001b[0m\u001b[0m\n\u001b[0;32m--> 681\u001b[0;31m             \u001b[0;32mraise\u001b[0m \u001b[0mKeyError\u001b[0m\u001b[0;34m(\u001b[0m\u001b[0mkey\u001b[0m\u001b[0;34m)\u001b[0m \u001b[0;32mfrom\u001b[0m \u001b[0;32mNone\u001b[0m\u001b[0;34m\u001b[0m\u001b[0;34m\u001b[0m\u001b[0m\n\u001b[0m\u001b[1;32m    682\u001b[0m         \u001b[0;32mreturn\u001b[0m \u001b[0mself\u001b[0m\u001b[0;34m.\u001b[0m\u001b[0mdecodevalue\u001b[0m\u001b[0;34m(\u001b[0m\u001b[0mvalue\u001b[0m\u001b[0;34m)\u001b[0m\u001b[0;34m\u001b[0m\u001b[0;34m\u001b[0m\u001b[0m\n\u001b[1;32m    683\u001b[0m \u001b[0;34m\u001b[0m\u001b[0m\n",
      "\u001b[0;31mKeyError\u001b[0m: 'COLAB_TPU_ADDR'"
     ]
    }
   ],
   "source": [
    "import tensorflow as tf\n",
    "import os\n",
    "\n",
    "# Note that the `tpu` argument is for Colab-only\n",
    "resolver = tf.distribute.cluster_resolver.TPUClusterResolver(tpu='grpc://' + os.environ['COLAB_TPU_ADDR'])\n",
    "\n",
    "tf.config.experimental_connect_to_cluster(resolver)\n",
    "tf.tpu.experimental.initialize_tpu_system(resolver)\n",
    "print(\"All devices: \", tf.config.list_logical_devices('TPU'))\n",
    "\n",
    "# tensorflow haricinde TPU kullanamazsınız\n",
    "# bu kod tensorflow sayfasında hazır şekilde bulunuyor\n",
    "\"\"\"\n",
    "Johnson H not:\n",
    "notebook ayarlarından TPU'yu seçip kaydedin ve ilk 2 hücreyi çalıştırsın. \n",
    "Boşta TPU çekirdeği yok uyarısı alan arkadaşlar 2-3 dakikaya bir bu hücreleri tekrar çalıştırsınlar.\n",
    " Uyarı alanlara genelde en geç 5-10 dakika içinde çekirdekler tahsis ediliyor.  O yüzden panik yapmayın\n",
    "\"\"\""
   ]
  },
  {
   "cell_type": "code",
   "execution_count": null,
   "metadata": {
    "id": "iVPEsIFh4mpH"
   },
   "outputs": [],
   "source": [
    "strategy = tf.distribute.TPUStrategy(resolver) "
   ]
  },
  {
   "cell_type": "code",
   "execution_count": null,
   "metadata": {
    "colab": {
     "base_uri": "https://localhost:8080/"
    },
    "id": "lhD9niRaGkSq",
    "outputId": "54e8c427-d4cf-472b-f468-f01a1f366d6a"
   },
   "outputs": [
    {
     "name": "stdout",
     "output_type": "stream",
     "text": [
      "Drive already mounted at /content/drive; to attempt to forcibly remount, call drive.mount(\"/content/drive\", force_remount=True).\n"
     ]
    }
   ],
   "source": [
    "from google.colab import drive\n",
    "drive.mount('/content/drive')"
   ]
  },
  {
   "cell_type": "code",
   "execution_count": null,
   "metadata": {
    "colab": {
     "base_uri": "https://localhost:8080/"
    },
    "id": "_skoAhjLmF0E",
    "outputId": "b0353786-1ce7-49b5-bde9-8fafbc642e62"
   },
   "outputs": [
    {
     "name": "stdout",
     "output_type": "stream",
     "text": [
      "Looking in indexes: https://pypi.org/simple, https://us-python.pkg.dev/colab-wheels/public/simple/\n",
      "Requirement already satisfied: transformers in /usr/local/lib/python3.7/dist-packages (4.23.1)\n",
      "Requirement already satisfied: pyyaml>=5.1 in /usr/local/lib/python3.7/dist-packages (from transformers) (6.0)\n",
      "Requirement already satisfied: numpy>=1.17 in /usr/local/lib/python3.7/dist-packages (from transformers) (1.21.6)\n",
      "Requirement already satisfied: huggingface-hub<1.0,>=0.10.0 in /usr/local/lib/python3.7/dist-packages (from transformers) (0.10.1)\n",
      "Requirement already satisfied: importlib-metadata in /usr/local/lib/python3.7/dist-packages (from transformers) (4.13.0)\n",
      "Requirement already satisfied: packaging>=20.0 in /usr/local/lib/python3.7/dist-packages (from transformers) (21.3)\n",
      "Requirement already satisfied: regex!=2019.12.17 in /usr/local/lib/python3.7/dist-packages (from transformers) (2022.6.2)\n",
      "Requirement already satisfied: tqdm>=4.27 in /usr/local/lib/python3.7/dist-packages (from transformers) (4.64.1)\n",
      "Requirement already satisfied: requests in /usr/local/lib/python3.7/dist-packages (from transformers) (2.23.0)\n",
      "Requirement already satisfied: tokenizers!=0.11.3,<0.14,>=0.11.1 in /usr/local/lib/python3.7/dist-packages (from transformers) (0.13.1)\n",
      "Requirement already satisfied: filelock in /usr/local/lib/python3.7/dist-packages (from transformers) (3.8.0)\n",
      "Requirement already satisfied: typing-extensions>=3.7.4.3 in /usr/local/lib/python3.7/dist-packages (from huggingface-hub<1.0,>=0.10.0->transformers) (4.1.1)\n",
      "Requirement already satisfied: pyparsing!=3.0.5,>=2.0.2 in /usr/local/lib/python3.7/dist-packages (from packaging>=20.0->transformers) (3.0.9)\n",
      "Requirement already satisfied: zipp>=0.5 in /usr/local/lib/python3.7/dist-packages (from importlib-metadata->transformers) (3.9.0)\n",
      "Requirement already satisfied: urllib3!=1.25.0,!=1.25.1,<1.26,>=1.21.1 in /usr/local/lib/python3.7/dist-packages (from requests->transformers) (1.24.3)\n",
      "Requirement already satisfied: idna<3,>=2.5 in /usr/local/lib/python3.7/dist-packages (from requests->transformers) (2.10)\n",
      "Requirement already satisfied: chardet<4,>=3.0.2 in /usr/local/lib/python3.7/dist-packages (from requests->transformers) (3.0.4)\n",
      "Requirement already satisfied: certifi>=2017.4.17 in /usr/local/lib/python3.7/dist-packages (from requests->transformers) (2022.9.24)\n"
     ]
    }
   ],
   "source": [
    "# !pip install transformers"
   ]
  },
  {
   "cell_type": "code",
   "execution_count": null,
   "metadata": {
    "id": "KwjqS75AeE-w"
   },
   "outputs": [],
   "source": []
  },
  {
   "cell_type": "markdown",
   "metadata": {
    "id": "FDDYcyvBeFmA"
   },
   "source": [
    "## Import Library"
   ]
  },
  {
   "cell_type": "code",
   "execution_count": null,
   "metadata": {
    "id": "UVecSUbKq_si"
   },
   "outputs": [],
   "source": [
    "import numpy as np\n",
    "import pandas as pd\n",
    "import warnings\n",
    "warnings.filterwarnings('ignore')"
   ]
  },
  {
   "cell_type": "code",
   "execution_count": null,
   "metadata": {
    "id": "Vhy2dT_aq_f4"
   },
   "outputs": [],
   "source": [
    "df = pd.read_csv('/content/drive/MyDrive/hepsiburada.csv', encoding=\"utf-8\")"
   ]
  },
  {
   "cell_type": "code",
   "execution_count": null,
   "metadata": {
    "colab": {
     "base_uri": "https://localhost:8080/",
     "height": 206
    },
    "id": "f3qQ6RJ0q_R4",
    "outputId": "63680ad5-79f7-4556-8856-41577277685b"
   },
   "outputs": [
    {
     "data": {
      "text/html": [
       "\n",
       "  <div id=\"df-2752b1bb-d773-4603-af54-ca6e206eef20\">\n",
       "    <div class=\"colab-df-container\">\n",
       "      <div>\n",
       "<style scoped>\n",
       "    .dataframe tbody tr th:only-of-type {\n",
       "        vertical-align: middle;\n",
       "    }\n",
       "\n",
       "    .dataframe tbody tr th {\n",
       "        vertical-align: top;\n",
       "    }\n",
       "\n",
       "    .dataframe thead th {\n",
       "        text-align: right;\n",
       "    }\n",
       "</style>\n",
       "<table border=\"1\" class=\"dataframe\">\n",
       "  <thead>\n",
       "    <tr style=\"text-align: right;\">\n",
       "      <th></th>\n",
       "      <th>Rating</th>\n",
       "      <th>Review</th>\n",
       "    </tr>\n",
       "  </thead>\n",
       "  <tbody>\n",
       "    <tr>\n",
       "      <th>0</th>\n",
       "      <td>1</td>\n",
       "      <td>3 yıldır tık demedi. :)</td>\n",
       "    </tr>\n",
       "    <tr>\n",
       "      <th>1</th>\n",
       "      <td>1</td>\n",
       "      <td>3 yıldır kullanıyorum müthiş</td>\n",
       "    </tr>\n",
       "    <tr>\n",
       "      <th>2</th>\n",
       "      <td>1</td>\n",
       "      <td>Ürün bugün elime geçti çok fazla inceleme fırs...</td>\n",
       "    </tr>\n",
       "    <tr>\n",
       "      <th>3</th>\n",
       "      <td>1</td>\n",
       "      <td>Almaya karar verdim. Hemencecik geldi. Keyifle...</td>\n",
       "    </tr>\n",
       "    <tr>\n",
       "      <th>4</th>\n",
       "      <td>1</td>\n",
       "      <td>Günlük kullanımınızı çok çok iyi karsılıyor kı...</td>\n",
       "    </tr>\n",
       "  </tbody>\n",
       "</table>\n",
       "</div>\n",
       "      <button class=\"colab-df-convert\" onclick=\"convertToInteractive('df-2752b1bb-d773-4603-af54-ca6e206eef20')\"\n",
       "              title=\"Convert this dataframe to an interactive table.\"\n",
       "              style=\"display:none;\">\n",
       "        \n",
       "  <svg xmlns=\"http://www.w3.org/2000/svg\" height=\"24px\"viewBox=\"0 0 24 24\"\n",
       "       width=\"24px\">\n",
       "    <path d=\"M0 0h24v24H0V0z\" fill=\"none\"/>\n",
       "    <path d=\"M18.56 5.44l.94 2.06.94-2.06 2.06-.94-2.06-.94-.94-2.06-.94 2.06-2.06.94zm-11 1L8.5 8.5l.94-2.06 2.06-.94-2.06-.94L8.5 2.5l-.94 2.06-2.06.94zm10 10l.94 2.06.94-2.06 2.06-.94-2.06-.94-.94-2.06-.94 2.06-2.06.94z\"/><path d=\"M17.41 7.96l-1.37-1.37c-.4-.4-.92-.59-1.43-.59-.52 0-1.04.2-1.43.59L10.3 9.45l-7.72 7.72c-.78.78-.78 2.05 0 2.83L4 21.41c.39.39.9.59 1.41.59.51 0 1.02-.2 1.41-.59l7.78-7.78 2.81-2.81c.8-.78.8-2.07 0-2.86zM5.41 20L4 18.59l7.72-7.72 1.47 1.35L5.41 20z\"/>\n",
       "  </svg>\n",
       "      </button>\n",
       "      \n",
       "  <style>\n",
       "    .colab-df-container {\n",
       "      display:flex;\n",
       "      flex-wrap:wrap;\n",
       "      gap: 12px;\n",
       "    }\n",
       "\n",
       "    .colab-df-convert {\n",
       "      background-color: #E8F0FE;\n",
       "      border: none;\n",
       "      border-radius: 50%;\n",
       "      cursor: pointer;\n",
       "      display: none;\n",
       "      fill: #1967D2;\n",
       "      height: 32px;\n",
       "      padding: 0 0 0 0;\n",
       "      width: 32px;\n",
       "    }\n",
       "\n",
       "    .colab-df-convert:hover {\n",
       "      background-color: #E2EBFA;\n",
       "      box-shadow: 0px 1px 2px rgba(60, 64, 67, 0.3), 0px 1px 3px 1px rgba(60, 64, 67, 0.15);\n",
       "      fill: #174EA6;\n",
       "    }\n",
       "\n",
       "    [theme=dark] .colab-df-convert {\n",
       "      background-color: #3B4455;\n",
       "      fill: #D2E3FC;\n",
       "    }\n",
       "\n",
       "    [theme=dark] .colab-df-convert:hover {\n",
       "      background-color: #434B5C;\n",
       "      box-shadow: 0px 1px 3px 1px rgba(0, 0, 0, 0.15);\n",
       "      filter: drop-shadow(0px 1px 2px rgba(0, 0, 0, 0.3));\n",
       "      fill: #FFFFFF;\n",
       "    }\n",
       "  </style>\n",
       "\n",
       "      <script>\n",
       "        const buttonEl =\n",
       "          document.querySelector('#df-2752b1bb-d773-4603-af54-ca6e206eef20 button.colab-df-convert');\n",
       "        buttonEl.style.display =\n",
       "          google.colab.kernel.accessAllowed ? 'block' : 'none';\n",
       "\n",
       "        async function convertToInteractive(key) {\n",
       "          const element = document.querySelector('#df-2752b1bb-d773-4603-af54-ca6e206eef20');\n",
       "          const dataTable =\n",
       "            await google.colab.kernel.invokeFunction('convertToInteractive',\n",
       "                                                     [key], {});\n",
       "          if (!dataTable) return;\n",
       "\n",
       "          const docLinkHtml = 'Like what you see? Visit the ' +\n",
       "            '<a target=\"_blank\" href=https://colab.research.google.com/notebooks/data_table.ipynb>data table notebook</a>'\n",
       "            + ' to learn more about interactive tables.';\n",
       "          element.innerHTML = '';\n",
       "          dataTable['output_type'] = 'display_data';\n",
       "          await google.colab.output.renderOutput(dataTable, element);\n",
       "          const docLink = document.createElement('div');\n",
       "          docLink.innerHTML = docLinkHtml;\n",
       "          element.appendChild(docLink);\n",
       "        }\n",
       "      </script>\n",
       "    </div>\n",
       "  </div>\n",
       "  "
      ],
      "text/plain": [
       "   Rating                                             Review\n",
       "0       1                            3 yıldır tık demedi. :)\n",
       "1       1                      3 yıldır kullanıyorum müthiş \n",
       "2       1  Ürün bugün elime geçti çok fazla inceleme fırs...\n",
       "3       1  Almaya karar verdim. Hemencecik geldi. Keyifle...\n",
       "4       1  Günlük kullanımınızı çok çok iyi karsılıyor kı..."
      ]
     },
     "execution_count": 6,
     "metadata": {},
     "output_type": "execute_result"
    }
   ],
   "source": [
    "df.head()"
   ]
  },
  {
   "cell_type": "code",
   "execution_count": null,
   "metadata": {
    "colab": {
     "base_uri": "https://localhost:8080/"
    },
    "id": "CKG2ol0COCu2",
    "outputId": "b12ac173-8b9b-4182-d838-b66cf04fdb27"
   },
   "outputs": [
    {
     "data": {
      "text/plain": [
       "1    229821\n",
       "0     13676\n",
       "Name: Rating, dtype: int64"
      ]
     },
     "execution_count": 7,
     "metadata": {},
     "output_type": "execute_result"
    }
   ],
   "source": [
    "df.Rating.value_counts()\n",
    "# 229821 : olumlu, 13676 :olumsuz"
   ]
  },
  {
   "cell_type": "code",
   "execution_count": null,
   "metadata": {
    "colab": {
     "base_uri": "https://localhost:8080/"
    },
    "id": "b868SbA6G0sy",
    "outputId": "ac14e177-8003-4151-bed2-b8c4a5c83857"
   },
   "outputs": [
    {
     "data": {
      "text/plain": [
       "1    0.943835\n",
       "0    0.056165\n",
       "Name: Rating, dtype: float64"
      ]
     },
     "execution_count": 8,
     "metadata": {},
     "output_type": "execute_result"
    }
   ],
   "source": [
    "df.Rating.value_counts(normalize=True)"
   ]
  },
  {
   "cell_type": "code",
   "execution_count": null,
   "metadata": {
    "id": "yCQNvYfHOCga"
   },
   "outputs": [],
   "source": [
    "df.Rating = df.Rating.map({1:0, 0:1}) # Hedef label ımız olumsuz yorumlar olduğu için olumsuzları 1 yaptık, olumluları 0"
   ]
  },
  {
   "cell_type": "code",
   "execution_count": null,
   "metadata": {
    "id": "fNZYGlzIHvY7"
   },
   "outputs": [],
   "source": [
    "X = df['Review'].values # X ve Y yi array e dönüştürdük. Çok büyük datalarda ML de arrayler daha hızlı çalışır(DL de zaten array olmak zorundaydıç Yoksa çalışmaz)\n",
    "y = df['Rating'].values"
   ]
  },
  {
   "cell_type": "markdown",
   "metadata": {
    "id": "niBysB1sag4U"
   },
   "source": [
    "## Train Test Split"
   ]
  },
  {
   "cell_type": "code",
   "execution_count": null,
   "metadata": {
    "id": "bDF4SJOdaeUo"
   },
   "outputs": [],
   "source": [
    "from sklearn.model_selection import train_test_split\n",
    "\n",
    "X_train, X_test, y_train, y_test = train_test_split(X, y, test_size=0.1, stratify=y, random_state=42)"
   ]
  },
  {
   "cell_type": "markdown",
   "metadata": {
    "id": "Y7dAVSq7TIdk"
   },
   "source": [
    "### Tokenization Example For BERT\n",
    "\n",
    "https://huggingface.co/dbmdz/bert-base-turkish-uncased"
   ]
  },
  {
   "cell_type": "code",
   "execution_count": null,
   "metadata": {
    "id": "8Gp6U_AMvqii"
   },
   "outputs": [],
   "source": [
    "# Linkte bu tokenizer ın nasıl kullanılacağına dair bilgileri vermişler. Bunları kopyalayıp yapıştırdık alta\n",
    "# case   : büyük küçük harfe duyarlı şekilde token işlemleri yapar.(Translationda case kullanmak gerekir örneğin virgül, nokta kullanınca anlam değişir. Büyük harf ona göre değişir vs)\n",
    "# uncase : hepsini küçük harfe dönüştürüp token işlemleri yapar(classification da case e ihtiyaç duymuyoruz o yüzden bunu kullanıyoruz)"
   ]
  },
  {
   "cell_type": "code",
   "execution_count": null,
   "metadata": {
    "colab": {
     "base_uri": "https://localhost:8080/",
     "height": 84,
     "referenced_widgets": [
      "165bb0e229d04633a0c7ca6ede13e9ba",
      "8016a5e46c494fd4bd52693add8a3d03",
      "ed7326880a2e430aa37b0535ab2663e8",
      "5b9214982aaf436e891129c7977040a0",
      "9835e831ec5641239efa2cd3f6cf1bde",
      "72f6a23b832c4db8b68d5b1dc5ff0281",
      "427e81a76e3d4d679ca80e9da85e7dca",
      "980ca13cc4fe4d2ea88f547a61e5ced7",
      "445bdffd60d24f61b79c557ffe4560c4",
      "16fa04f158294b76ae3ebf1fdde72573",
      "a90f3d848db6495b9d2ad16ddedb018b"
     ]
    },
    "id": "imgIIPUaTZCk",
    "outputId": "1c1c6f19-21e0-4ec0-c0b1-856a931e7568"
   },
   "outputs": [
    {
     "name": "stderr",
     "output_type": "stream",
     "text": [
      "The cache for model files in Transformers v4.22.0 has been updated. Migrating your old cache. This is a one-time only operation. You can interrupt this and resume the migration later on by calling `transformers.utils.move_cache()`.\n"
     ]
    },
    {
     "name": "stdout",
     "output_type": "stream",
     "text": [
      "Moving 0 files to the new cache system\n"
     ]
    },
    {
     "data": {
      "application/vnd.jupyter.widget-view+json": {
       "model_id": "165bb0e229d04633a0c7ca6ede13e9ba",
       "version_major": 2,
       "version_minor": 0
      },
      "text/plain": [
       "0it [00:00, ?it/s]"
      ]
     },
     "metadata": {},
     "output_type": "display_data"
    }
   ],
   "source": [
    "from transformers import AutoTokenizer\n",
    "\n",
    "tokenizer = AutoTokenizer.from_pretrained(\"dbmdz/bert-base-turkish-uncased\")"
   ]
  },
  {
   "cell_type": "code",
   "execution_count": null,
   "metadata": {
    "colab": {
     "base_uri": "https://localhost:8080/"
    },
    "id": "mCi_h-3ATZPQ",
    "outputId": "67431b38-8f79-4c5c-9ecc-91ec6013f6df"
   },
   "outputs": [
    {
     "data": {
      "text/plain": [
       "['sent',\n",
       " '##epe',\n",
       " '##li',\n",
       " 'suk',\n",
       " '##ru',\n",
       " 'abi',\n",
       " 'cok',\n",
       " 'guzel',\n",
       " 'bir',\n",
       " 'insan',\n",
       " '?',\n",
       " '😊']"
      ]
     },
     "execution_count": 13,
     "metadata": {},
     "output_type": "execute_result"
    }
   ],
   "source": [
    "text = \"Şentepeli Şükrü abi çok güzel bir insan?😊\"\n",
    " \n",
    "tokenizer.tokenize(text)\n",
    "# Emojiler ML ve DL lerde bunlar ignore ediliyor ve alttaki resimdeki gibi bir şey olduğunda sadece I ve You kalınca(kalp işareti ignore edilince) model yorum yapamaz\n",
    "# Altta \"##epe\": word piece tokenizer(eklerine ve köklerine ayırıyordu) yapılmış(eklerine ayırmış)"
   ]
  },
  {
   "cell_type": "markdown",
   "metadata": {
    "id": "TI752gG9wtBi"
   },
   "source": [
    "![image.png](data:image/png;base64,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)"
   ]
  },
  {
   "cell_type": "code",
   "execution_count": null,
   "metadata": {
    "colab": {
     "base_uri": "https://localhost:8080/"
    },
    "id": "nfR7gMFCTZZI",
    "outputId": "82fc9c23-fc6b-4670-dd77-98839c318ffb"
   },
   "outputs": [
    {
     "name": "stdout",
     "output_type": "stream",
     "text": [
      "[2, 15955, 11679, 2033, 28792, 2239, 8621, 6191, 14533, 1993, 2419, 35, 989, 3]\n",
      "14\n"
     ]
    }
   ],
   "source": [
    "sentence = \"Şentepeli Şükrü abi çok güzel bir insan?😊\"\n",
    "tokens = tokenizer.encode(sentence, add_special_tokens=True) # Sayısal forma dönüştürme\n",
    "print(tokens)\n",
    "print(len(tokens))\n",
    "# Bert modellerinde 2 özel tokenimiz vardı CLS[2] , SEP[3]\n",
    "# sent: 15955 inci tokene denk geliyormuş \n",
    "# 😊: 989 inci tokene denk geliyormuş \n",
    "# 14: Kaç tokenden oluştuğu bilgisi\n",
    "\n",
    "# Bütün yorumlarımın kaç tokenden oluştuğunu öğreneyim ve bütün yorumları aynı boyuta sabitleyeceğiz"
   ]
  },
  {
   "cell_type": "markdown",
   "metadata": {
    "id": "wVwOkzBCjmMX"
   },
   "source": [
    "### Fixing token counts of all documents"
   ]
  },
  {
   "cell_type": "code",
   "execution_count": null,
   "metadata": {
    "colab": {
     "base_uri": "https://localhost:8080/"
    },
    "id": "HXHgV6hdSBdP",
    "outputId": "c48da0dc-6b1b-44b2-c0ab-76ecdc03294d"
   },
   "outputs": [
    {
     "name": "stderr",
     "output_type": "stream",
     "text": [
      "Token indices sequence length is longer than the specified maximum sequence length for this model (521 > 512). Running this sequence through the model will result in indexing errors\n"
     ]
    },
    {
     "name": "stdout",
     "output_type": "stream",
     "text": [
      "Max sentence length:  546\n"
     ]
    }
   ],
   "source": [
    "# For every sentence...\n",
    "max_token = []\n",
    "for sent in X:\n",
    "\n",
    "    # Tokenize the text and add `[CLS]` and `[SEP]` tokens.\n",
    "    \n",
    "    input_ids = tokenizer.encode(sent, add_special_tokens=True) # add_special_tokens=True: CLS[2] , SEP[3]\n",
    "    max_token.append(len(input_ids))\n",
    "\n",
    "print('Max sentence length: ', max(max_token))\n",
    "# Corpusumdaki her bir yorum tokenden oluşuyor ve En uzun yorum kaç tokenden oluşuyor(546) bilgilerini göreceğiz "
   ]
  },
  {
   "cell_type": "code",
   "execution_count": null,
   "metadata": {
    "colab": {
     "base_uri": "https://localhost:8080/"
    },
    "id": "d1FcGviRvoM4",
    "outputId": "036a0a43-bb2f-4544-c4ed-5675d61d7abb"
   },
   "outputs": [
    {
     "name": "stdout",
     "output_type": "stream",
     "text": [
      "[ True  True  True  True False False  True]\n",
      "0.7142857142857143\n"
     ]
    }
   ],
   "source": [
    "list = [5, 10, 8, 9, 12, 15, 4]\n",
    "print(np.array(list) <= 10)\n",
    "print(sum(np.array(list) <= 10)/len(list))\n",
    "\n",
    "# Yüzde 95 inde bilgi kaybı olmasın demiştik önceden. Yine bu mantık anlatılıyor burada"
   ]
  },
  {
   "cell_type": "code",
   "execution_count": null,
   "metadata": {
    "colab": {
     "base_uri": "https://localhost:8080/"
    },
    "id": "Nl9BCD__wGTk",
    "outputId": "c207d303-36a6-4da4-e3b6-7349aa770a09"
   },
   "outputs": [
    {
     "data": {
      "text/plain": [
       "39.53032686234327"
      ]
     },
     "execution_count": 17,
     "metadata": {},
     "output_type": "execute_result"
    }
   ],
   "source": [
    "np.array(max_token).mean() # Corpusumdaki yorumlar ortalama 39 tokenden oluşuyor"
   ]
  },
  {
   "cell_type": "code",
   "execution_count": null,
   "metadata": {
    "colab": {
     "base_uri": "https://localhost:8080/"
    },
    "id": "GJEpW1GMUa7Q",
    "outputId": "c3bfbb73-20c3-4d83-ce70-284dc79999bc"
   },
   "outputs": [
    {
     "data": {
      "text/plain": [
       "0.9849115184170647"
      ]
     },
     "execution_count": 18,
     "metadata": {},
     "output_type": "execute_result"
    }
   ],
   "source": [
    "sum(np.array(max_token) < 160) / len(max_token) # Johnson H: Burada ben 160(boyut) a karar kıldım"
   ]
  },
  {
   "cell_type": "markdown",
   "metadata": {
    "id": "m-aKWdTbWEQP"
   },
   "source": [
    "### Transformation Vectors to Matrices"
   ]
  },
  {
   "cell_type": "code",
   "execution_count": null,
   "metadata": {
    "colab": {
     "base_uri": "https://localhost:8080/"
    },
    "id": "yGRSjL_mVtPr",
    "outputId": "1d3635d4-a7e7-4ee3-9bf9-e1ade580bfa8"
   },
   "outputs": [
    {
     "name": "stdout",
     "output_type": "stream",
     "text": [
      "{'input_ids': [2, 15955, 11679, 2033, 28792, 2239, 8621, 6191, 14533, 1993, 2419, 35, 989, 3], 'token_type_ids': [0, 0, 0, 0, 0, 0, 0, 0, 0, 0, 0, 0, 0, 0], 'attention_mask': [1, 1, 1, 1, 1, 1, 1, 1, 1, 1, 1, 1, 1, 1]}\n"
     ]
    }
   ],
   "source": [
    "# Bert model 3 tane ayrı ayrı vektör ister. Burada encode yerine(yukarıda encode kullandık) encode_plus kullanıyoruz\n",
    "sentence = \"Şentepeli Şükrü abi çok güzel bir insan?😊\"\n",
    "tokens = tokenizer.encode_plus(sentence, add_special_tokens=True)\n",
    "print(tokens)\n",
    "# input_ids: tokenlerime bir kimlik numarası veriyor\n",
    "# token_type_ids: translation veya question & answers şarda .. modele verilen textlerin hangisi input, hangisi output olduğunu belirliyordu. Bu classification da ve sentiment analizde kullanmayacağız\n",
    "# attention_mask: Position embedding. Bunların gerçek boyutlarını(uzunluğunu) öğrenme hem de pozition bilgiler.\n",
    "\n",
    "# Bert modelin benden istediği 3 ayrı vektörü elde ediyorum. Bunun için \"encode_plus\" ı kullanıyorum"
   ]
  },
  {
   "cell_type": "code",
   "execution_count": null,
   "metadata": {
    "id": "9j0NrjSgzdl1"
   },
   "outputs": [],
   "source": [
    "\"\"\"\n",
    "class chat: max_token listesi inceleme\n",
    "import numpy as np\n",
    "from scipy import stats\n",
    "\n",
    "arr = np.array(max_token)\n",
    " \n",
    "print(\"Descriptive analysis\")\n",
    "print(\"Document Size \\t=\", arr.shape[0])\n",
    "print(\"Doc Token Count\\t=\", arr)\n",
    "\n",
    "# measures of central tendency\n",
    "print(\"Measures of Central Tendency\")\n",
    "print(\"Mean \\t\\t=\", arr.mean())\n",
    "print(\"Median \\t\\t=\", np.median(arr))\n",
    "print(\"Mode \\t\\t=\", stats.mode(arr)[0][0])\n",
    "\n",
    "# measures of dispersion\n",
    "print(\"Measures of Dispersion\")\n",
    "print(\"Minimum \\t=\", arr.min())\n",
    "print(\"Maximum \\t=\", arr.max())\n",
    "print(\"Range \\t\\t=\", arr.ptp())\n",
    "print(\"Variance \\t=\", arr.var())\n",
    "print(\"Standard Deviation =\", arr.std())\n",
    "\"\"\""
   ]
  },
  {
   "cell_type": "code",
   "execution_count": null,
   "metadata": {
    "colab": {
     "base_uri": "https://localhost:8080/"
    },
    "id": "qizDYSs5XwT6",
    "outputId": "b2da2dc5-1993-4205-d3fc-4951527c7142"
   },
   "outputs": [
    {
     "data": {
      "text/plain": [
       "{'input_ids': [2, 15955, 11679, 2033, 28792, 2239, 8621, 6191, 14533, 1993, 2419, 35, 989, 3, 0, 0, 0, 0, 0, 0, 0, 0, 0, 0, 0, 0, 0, 0, 0, 0, 0, 0, 0, 0, 0, 0, 0, 0, 0, 0, 0, 0, 0, 0, 0, 0, 0, 0, 0, 0, 0, 0, 0, 0, 0, 0, 0, 0, 0, 0, 0, 0, 0, 0, 0, 0, 0, 0, 0, 0, 0, 0, 0, 0, 0, 0, 0, 0, 0, 0, 0, 0, 0, 0, 0, 0, 0, 0, 0, 0, 0, 0, 0, 0, 0, 0, 0, 0, 0, 0, 0, 0, 0, 0, 0, 0, 0, 0, 0, 0, 0, 0, 0, 0, 0, 0, 0, 0, 0, 0, 0, 0, 0, 0, 0, 0, 0, 0, 0, 0, 0, 0, 0, 0, 0, 0, 0, 0, 0, 0, 0, 0, 0, 0, 0, 0, 0, 0, 0, 0, 0, 0, 0, 0, 0, 0, 0, 0, 0, 0], 'token_type_ids': [0, 0, 0, 0, 0, 0, 0, 0, 0, 0, 0, 0, 0, 0, 0, 0, 0, 0, 0, 0, 0, 0, 0, 0, 0, 0, 0, 0, 0, 0, 0, 0, 0, 0, 0, 0, 0, 0, 0, 0, 0, 0, 0, 0, 0, 0, 0, 0, 0, 0, 0, 0, 0, 0, 0, 0, 0, 0, 0, 0, 0, 0, 0, 0, 0, 0, 0, 0, 0, 0, 0, 0, 0, 0, 0, 0, 0, 0, 0, 0, 0, 0, 0, 0, 0, 0, 0, 0, 0, 0, 0, 0, 0, 0, 0, 0, 0, 0, 0, 0, 0, 0, 0, 0, 0, 0, 0, 0, 0, 0, 0, 0, 0, 0, 0, 0, 0, 0, 0, 0, 0, 0, 0, 0, 0, 0, 0, 0, 0, 0, 0, 0, 0, 0, 0, 0, 0, 0, 0, 0, 0, 0, 0, 0, 0, 0, 0, 0, 0, 0, 0, 0, 0, 0, 0, 0, 0, 0, 0, 0], 'attention_mask': [1, 1, 1, 1, 1, 1, 1, 1, 1, 1, 1, 1, 1, 1, 0, 0, 0, 0, 0, 0, 0, 0, 0, 0, 0, 0, 0, 0, 0, 0, 0, 0, 0, 0, 0, 0, 0, 0, 0, 0, 0, 0, 0, 0, 0, 0, 0, 0, 0, 0, 0, 0, 0, 0, 0, 0, 0, 0, 0, 0, 0, 0, 0, 0, 0, 0, 0, 0, 0, 0, 0, 0, 0, 0, 0, 0, 0, 0, 0, 0, 0, 0, 0, 0, 0, 0, 0, 0, 0, 0, 0, 0, 0, 0, 0, 0, 0, 0, 0, 0, 0, 0, 0, 0, 0, 0, 0, 0, 0, 0, 0, 0, 0, 0, 0, 0, 0, 0, 0, 0, 0, 0, 0, 0, 0, 0, 0, 0, 0, 0, 0, 0, 0, 0, 0, 0, 0, 0, 0, 0, 0, 0, 0, 0, 0, 0, 0, 0, 0, 0, 0, 0, 0, 0, 0, 0, 0, 0, 0, 0]}"
      ]
     },
     "execution_count": 20,
     "metadata": {},
     "output_type": "execute_result"
    }
   ],
   "source": [
    "# Her birini 160 tokene sabitlemeliyiz\n",
    "tokens = tokenizer.encode_plus(sentence, max_length=160, truncation=True,\n",
    "                              padding='max_length', add_special_tokens=True)\n",
    "tokens\n",
    "# max_length=160 bunu atadıktan sonra bunu padding in karşısına yazacağız \"max_length\" i. Yoksa hata alırsınız\n",
    "# input_ids,token_type_ids, attention_mask i 160 boyuta sabitledi\n",
    "# Tokenleştirme işlemini bu kod ile yapmış olduk\n",
    "# truncation=True : Kesme işlemi gerekirse yap\n",
    "\n",
    "# class chat soru: Hocam burada 0 ları sona ekledi?\n",
    "# Johnson H: DL de başa eklerken burada sona ekliyor"
   ]
  },
  {
   "cell_type": "code",
   "execution_count": null,
   "metadata": {
    "id": "FvdC-h96VtbF"
   },
   "outputs": [],
   "source": [
    "# Vektörlere dönüştürdük. Ama benim 24300 yorumum var\n",
    "# Bu elde ettiğim vektörleri matrise dönüştüreceğim\n",
    "# HEr bir yorumu alıp bir matris içerisinde birleştireceğiz\n",
    "seq_len = 160\n",
    "num_samples = len(X) # gözlem sayım, satır sayım, yorum sayım # 243000\n",
    "\n",
    "# 0 lardan oluşan 2 ayrı matris oluşturuyoruz. 160 feature, 243000 satırlık matris\n",
    "Xids = np.zeros((num_samples, seq_len))\n",
    "Xmask = np.zeros((num_samples, seq_len))\n",
    "\n",
    "# class chat soru: toekn_type ids i kullandığımız için mi eklemedik. Kullansak yapacak mıyız?\n",
    "# Johnson H: Kullanmadığımız için almadık ama translation yapacaksanız onun içinde bir matris oluşturmanız gerekirdi\n",
    "# .. toekn_type ids zaten \"0\" lardan oluşacağı için hep modele bir faydası yok"
   ]
  },
  {
   "cell_type": "code",
   "execution_count": null,
   "metadata": {
    "colab": {
     "base_uri": "https://localhost:8080/"
    },
    "id": "UNYl8vXNVtme",
    "outputId": "339764e9-0cc8-4144-e472-d957a9fa978d"
   },
   "outputs": [
    {
     "data": {
      "text/plain": [
       "array([[0., 0., 0., 0., 0., 0., 0., 0., 0., 0., 0., 0., 0., 0., 0., 0.,\n",
       "        0., 0., 0., 0., 0., 0., 0., 0., 0., 0., 0., 0., 0., 0., 0., 0.,\n",
       "        0., 0., 0., 0., 0., 0., 0., 0., 0., 0., 0., 0., 0., 0., 0., 0.,\n",
       "        0., 0., 0., 0., 0., 0., 0., 0., 0., 0., 0., 0., 0., 0., 0., 0.,\n",
       "        0., 0., 0., 0., 0., 0., 0., 0., 0., 0., 0., 0., 0., 0., 0., 0.,\n",
       "        0., 0., 0., 0., 0., 0., 0., 0., 0., 0., 0., 0., 0., 0., 0., 0.,\n",
       "        0., 0., 0., 0., 0., 0., 0., 0., 0., 0., 0., 0., 0., 0., 0., 0.,\n",
       "        0., 0., 0., 0., 0., 0., 0., 0., 0., 0., 0., 0., 0., 0., 0., 0.,\n",
       "        0., 0., 0., 0., 0., 0., 0., 0., 0., 0., 0., 0., 0., 0., 0., 0.,\n",
       "        0., 0., 0., 0., 0., 0., 0., 0., 0., 0., 0., 0., 0., 0., 0., 0.],\n",
       "       [0., 0., 0., 0., 0., 0., 0., 0., 0., 0., 0., 0., 0., 0., 0., 0.,\n",
       "        0., 0., 0., 0., 0., 0., 0., 0., 0., 0., 0., 0., 0., 0., 0., 0.,\n",
       "        0., 0., 0., 0., 0., 0., 0., 0., 0., 0., 0., 0., 0., 0., 0., 0.,\n",
       "        0., 0., 0., 0., 0., 0., 0., 0., 0., 0., 0., 0., 0., 0., 0., 0.,\n",
       "        0., 0., 0., 0., 0., 0., 0., 0., 0., 0., 0., 0., 0., 0., 0., 0.,\n",
       "        0., 0., 0., 0., 0., 0., 0., 0., 0., 0., 0., 0., 0., 0., 0., 0.,\n",
       "        0., 0., 0., 0., 0., 0., 0., 0., 0., 0., 0., 0., 0., 0., 0., 0.,\n",
       "        0., 0., 0., 0., 0., 0., 0., 0., 0., 0., 0., 0., 0., 0., 0., 0.,\n",
       "        0., 0., 0., 0., 0., 0., 0., 0., 0., 0., 0., 0., 0., 0., 0., 0.,\n",
       "        0., 0., 0., 0., 0., 0., 0., 0., 0., 0., 0., 0., 0., 0., 0., 0.]])"
      ]
     },
     "execution_count": 30,
     "metadata": {},
     "output_type": "execute_result"
    }
   ],
   "source": [
    "Xids[:2]"
   ]
  },
  {
   "cell_type": "code",
   "execution_count": null,
   "metadata": {
    "colab": {
     "base_uri": "https://localhost:8080/"
    },
    "id": "5V0EDnphXeWB",
    "outputId": "a93dd4da-bea1-4edd-b3ec-3c5bf8b381c4"
   },
   "outputs": [
    {
     "data": {
      "text/plain": [
       "array([[0., 0., 0., 0., 0., 0., 0., 0., 0., 0., 0., 0., 0., 0., 0., 0.,\n",
       "        0., 0., 0., 0., 0., 0., 0., 0., 0., 0., 0., 0., 0., 0., 0., 0.,\n",
       "        0., 0., 0., 0., 0., 0., 0., 0., 0., 0., 0., 0., 0., 0., 0., 0.,\n",
       "        0., 0., 0., 0., 0., 0., 0., 0., 0., 0., 0., 0., 0., 0., 0., 0.,\n",
       "        0., 0., 0., 0., 0., 0., 0., 0., 0., 0., 0., 0., 0., 0., 0., 0.,\n",
       "        0., 0., 0., 0., 0., 0., 0., 0., 0., 0., 0., 0., 0., 0., 0., 0.,\n",
       "        0., 0., 0., 0., 0., 0., 0., 0., 0., 0., 0., 0., 0., 0., 0., 0.,\n",
       "        0., 0., 0., 0., 0., 0., 0., 0., 0., 0., 0., 0., 0., 0., 0., 0.,\n",
       "        0., 0., 0., 0., 0., 0., 0., 0., 0., 0., 0., 0., 0., 0., 0., 0.,\n",
       "        0., 0., 0., 0., 0., 0., 0., 0., 0., 0., 0., 0., 0., 0., 0., 0.],\n",
       "       [0., 0., 0., 0., 0., 0., 0., 0., 0., 0., 0., 0., 0., 0., 0., 0.,\n",
       "        0., 0., 0., 0., 0., 0., 0., 0., 0., 0., 0., 0., 0., 0., 0., 0.,\n",
       "        0., 0., 0., 0., 0., 0., 0., 0., 0., 0., 0., 0., 0., 0., 0., 0.,\n",
       "        0., 0., 0., 0., 0., 0., 0., 0., 0., 0., 0., 0., 0., 0., 0., 0.,\n",
       "        0., 0., 0., 0., 0., 0., 0., 0., 0., 0., 0., 0., 0., 0., 0., 0.,\n",
       "        0., 0., 0., 0., 0., 0., 0., 0., 0., 0., 0., 0., 0., 0., 0., 0.,\n",
       "        0., 0., 0., 0., 0., 0., 0., 0., 0., 0., 0., 0., 0., 0., 0., 0.,\n",
       "        0., 0., 0., 0., 0., 0., 0., 0., 0., 0., 0., 0., 0., 0., 0., 0.,\n",
       "        0., 0., 0., 0., 0., 0., 0., 0., 0., 0., 0., 0., 0., 0., 0., 0.,\n",
       "        0., 0., 0., 0., 0., 0., 0., 0., 0., 0., 0., 0., 0., 0., 0., 0.]])"
      ]
     },
     "execution_count": 22,
     "metadata": {},
     "output_type": "execute_result"
    }
   ],
   "source": [
    "Xmask[:2]"
   ]
  },
  {
   "cell_type": "code",
   "execution_count": null,
   "metadata": {
    "id": "8Um88xpA1LLj"
   },
   "outputs": [],
   "source": []
  },
  {
   "cell_type": "code",
   "execution_count": null,
   "metadata": {
    "colab": {
     "base_uri": "https://localhost:8080/"
    },
    "id": "nIH2CmO5csGR",
    "outputId": "c29bd92f-3190-4a01-894c-7664d3e06501"
   },
   "outputs": [
    {
     "name": "stdout",
     "output_type": "stream",
     "text": [
      "[2, 15955, 11679, 2033, 28792, 2239, 8621, 6191, 14533, 1993, 2419, 35, 989, 3, 0, 0, 0, 0, 0, 0, 0, 0, 0, 0, 0, 0, 0, 0, 0, 0, 0, 0, 0, 0, 0, 0, 0, 0, 0, 0, 0, 0, 0, 0, 0, 0, 0, 0, 0, 0, 0, 0, 0, 0, 0, 0, 0, 0, 0, 0, 0, 0, 0, 0, 0, 0, 0, 0, 0, 0, 0, 0, 0, 0, 0, 0, 0, 0, 0, 0, 0, 0, 0, 0, 0, 0, 0, 0, 0, 0, 0, 0, 0, 0, 0, 0, 0, 0, 0, 0, 0, 0, 0, 0, 0, 0, 0, 0, 0, 0, 0, 0, 0, 0, 0, 0, 0, 0, 0, 0, 0, 0, 0, 0, 0, 0, 0, 0, 0, 0, 0, 0, 0, 0, 0, 0, 0, 0, 0, 0, 0, 0, 0, 0, 0, 0, 0, 0, 0, 0, 0, 0, 0, 0, 0, 0, 0, 0, 0, 0]\n",
      "[1, 1, 1, 1, 1, 1, 1, 1, 1, 1, 1, 1, 1, 1, 0, 0, 0, 0, 0, 0, 0, 0, 0, 0, 0, 0, 0, 0, 0, 0, 0, 0, 0, 0, 0, 0, 0, 0, 0, 0, 0, 0, 0, 0, 0, 0, 0, 0, 0, 0, 0, 0, 0, 0, 0, 0, 0, 0, 0, 0, 0, 0, 0, 0, 0, 0, 0, 0, 0, 0, 0, 0, 0, 0, 0, 0, 0, 0, 0, 0, 0, 0, 0, 0, 0, 0, 0, 0, 0, 0, 0, 0, 0, 0, 0, 0, 0, 0, 0, 0, 0, 0, 0, 0, 0, 0, 0, 0, 0, 0, 0, 0, 0, 0, 0, 0, 0, 0, 0, 0, 0, 0, 0, 0, 0, 0, 0, 0, 0, 0, 0, 0, 0, 0, 0, 0, 0, 0, 0, 0, 0, 0, 0, 0, 0, 0, 0, 0, 0, 0, 0, 0, 0, 0, 0, 0, 0, 0, 0, 0]\n"
     ]
    }
   ],
   "source": [
    "print(tokens['input_ids'])\n",
    "print(tokens['attention_mask'])"
   ]
  },
  {
   "cell_type": "code",
   "execution_count": null,
   "metadata": {
    "id": "wGs1YGitZBRe"
   },
   "outputs": [],
   "source": [
    "# ilgili matrisimizdeki ilgili(kaçıncı yoruma denk geliyorsa) satıra ilave ediyorum. Xids[0]: Xid lerin ilk satırları\n",
    "Xids[0] = tokens['input_ids']        \n",
    "Xmask[0] = tokens['attention_mask']"
   ]
  },
  {
   "cell_type": "code",
   "execution_count": null,
   "metadata": {
    "colab": {
     "base_uri": "https://localhost:8080/"
    },
    "id": "0xOdXoN6ZTFs",
    "outputId": "1b4b5b99-71ce-42da-ee51-f38dd7b42436"
   },
   "outputs": [
    {
     "data": {
      "text/plain": [
       "array([2.0000e+00, 1.5955e+04, 1.1679e+04, 2.0330e+03, 2.8792e+04,\n",
       "       2.2390e+03, 8.6210e+03, 6.1910e+03, 1.4533e+04, 1.9930e+03,\n",
       "       2.4190e+03, 3.5000e+01, 9.8900e+02, 3.0000e+00, 0.0000e+00,\n",
       "       0.0000e+00, 0.0000e+00, 0.0000e+00, 0.0000e+00, 0.0000e+00,\n",
       "       0.0000e+00, 0.0000e+00, 0.0000e+00, 0.0000e+00, 0.0000e+00,\n",
       "       0.0000e+00, 0.0000e+00, 0.0000e+00, 0.0000e+00, 0.0000e+00,\n",
       "       0.0000e+00, 0.0000e+00, 0.0000e+00, 0.0000e+00, 0.0000e+00,\n",
       "       0.0000e+00, 0.0000e+00, 0.0000e+00, 0.0000e+00, 0.0000e+00,\n",
       "       0.0000e+00, 0.0000e+00, 0.0000e+00, 0.0000e+00, 0.0000e+00,\n",
       "       0.0000e+00, 0.0000e+00, 0.0000e+00, 0.0000e+00, 0.0000e+00,\n",
       "       0.0000e+00, 0.0000e+00, 0.0000e+00, 0.0000e+00, 0.0000e+00,\n",
       "       0.0000e+00, 0.0000e+00, 0.0000e+00, 0.0000e+00, 0.0000e+00,\n",
       "       0.0000e+00, 0.0000e+00, 0.0000e+00, 0.0000e+00, 0.0000e+00,\n",
       "       0.0000e+00, 0.0000e+00, 0.0000e+00, 0.0000e+00, 0.0000e+00,\n",
       "       0.0000e+00, 0.0000e+00, 0.0000e+00, 0.0000e+00, 0.0000e+00,\n",
       "       0.0000e+00, 0.0000e+00, 0.0000e+00, 0.0000e+00, 0.0000e+00,\n",
       "       0.0000e+00, 0.0000e+00, 0.0000e+00, 0.0000e+00, 0.0000e+00,\n",
       "       0.0000e+00, 0.0000e+00, 0.0000e+00, 0.0000e+00, 0.0000e+00,\n",
       "       0.0000e+00, 0.0000e+00, 0.0000e+00, 0.0000e+00, 0.0000e+00,\n",
       "       0.0000e+00, 0.0000e+00, 0.0000e+00, 0.0000e+00, 0.0000e+00,\n",
       "       0.0000e+00, 0.0000e+00, 0.0000e+00, 0.0000e+00, 0.0000e+00,\n",
       "       0.0000e+00, 0.0000e+00, 0.0000e+00, 0.0000e+00, 0.0000e+00,\n",
       "       0.0000e+00, 0.0000e+00, 0.0000e+00, 0.0000e+00, 0.0000e+00,\n",
       "       0.0000e+00, 0.0000e+00, 0.0000e+00, 0.0000e+00, 0.0000e+00,\n",
       "       0.0000e+00, 0.0000e+00, 0.0000e+00, 0.0000e+00, 0.0000e+00,\n",
       "       0.0000e+00, 0.0000e+00, 0.0000e+00, 0.0000e+00, 0.0000e+00,\n",
       "       0.0000e+00, 0.0000e+00, 0.0000e+00, 0.0000e+00, 0.0000e+00,\n",
       "       0.0000e+00, 0.0000e+00, 0.0000e+00, 0.0000e+00, 0.0000e+00,\n",
       "       0.0000e+00, 0.0000e+00, 0.0000e+00, 0.0000e+00, 0.0000e+00,\n",
       "       0.0000e+00, 0.0000e+00, 0.0000e+00, 0.0000e+00, 0.0000e+00,\n",
       "       0.0000e+00, 0.0000e+00, 0.0000e+00, 0.0000e+00, 0.0000e+00,\n",
       "       0.0000e+00, 0.0000e+00, 0.0000e+00, 0.0000e+00, 0.0000e+00])"
      ]
     },
     "execution_count": 25,
     "metadata": {},
     "output_type": "execute_result"
    }
   ],
   "source": [
    "Xids[0]"
   ]
  },
  {
   "cell_type": "code",
   "execution_count": null,
   "metadata": {
    "colab": {
     "base_uri": "https://localhost:8080/"
    },
    "id": "h3WubnqbZTth",
    "outputId": "8ddb10d9-67ba-4d17-8e33-e9053025065c"
   },
   "outputs": [
    {
     "data": {
      "text/plain": [
       "array([1., 1., 1., 1., 1., 1., 1., 1., 1., 1., 1., 1., 1., 1., 0., 0., 0.,\n",
       "       0., 0., 0., 0., 0., 0., 0., 0., 0., 0., 0., 0., 0., 0., 0., 0., 0.,\n",
       "       0., 0., 0., 0., 0., 0., 0., 0., 0., 0., 0., 0., 0., 0., 0., 0., 0.,\n",
       "       0., 0., 0., 0., 0., 0., 0., 0., 0., 0., 0., 0., 0., 0., 0., 0., 0.,\n",
       "       0., 0., 0., 0., 0., 0., 0., 0., 0., 0., 0., 0., 0., 0., 0., 0., 0.,\n",
       "       0., 0., 0., 0., 0., 0., 0., 0., 0., 0., 0., 0., 0., 0., 0., 0., 0.,\n",
       "       0., 0., 0., 0., 0., 0., 0., 0., 0., 0., 0., 0., 0., 0., 0., 0., 0.,\n",
       "       0., 0., 0., 0., 0., 0., 0., 0., 0., 0., 0., 0., 0., 0., 0., 0., 0.,\n",
       "       0., 0., 0., 0., 0., 0., 0., 0., 0., 0., 0., 0., 0., 0., 0., 0., 0.,\n",
       "       0., 0., 0., 0., 0., 0., 0.])"
      ]
     },
     "execution_count": 26,
     "metadata": {},
     "output_type": "execute_result"
    }
   ],
   "source": [
    "Xmask[0]"
   ]
  },
  {
   "cell_type": "code",
   "execution_count": null,
   "metadata": {
    "id": "GhFdnT3ha45y"
   },
   "outputs": [],
   "source": [
    "# Üsttekileri bütün corpus a uygulayalım\n",
    "\n",
    "def transformation(X):\n",
    "  # set array dimensions\n",
    "  seq_len = 160\n",
    "  num_samples = len(X)\n",
    "\n",
    "  # initialize empty zero arrays\n",
    "  Xids = np.zeros((num_samples, seq_len))\n",
    "  Xmask = np.zeros((num_samples, seq_len))\n",
    "\n",
    "    \n",
    "  for i, phrase in enumerate(X):\n",
    "      tokens = tokenizer.encode_plus(phrase, max_length=seq_len, truncation=True,\n",
    "                                      padding='max_length', add_special_tokens=True) \n",
    "      \n",
    "      # assign tokenized outputs to respective rows in numpy arrays\n",
    "      Xids[i] = tokens['input_ids']\n",
    "      Xmask[i] = tokens['attention_mask']\n",
    "  return Xids, Xmask\n",
    "\n",
    "# Xids[i] ye karşılık gelen tokens['input_ids'] mizi \n",
    "# Xmask[i] ye karşılık gelen tokens['attention_mask'] mizi birleştirdik\n",
    "  # enumerate: o yorumun, kaçıncı yoruma denk geldiğini tespit edeceğiz enumerate yardımıyla"
   ]
  },
  {
   "cell_type": "code",
   "execution_count": null,
   "metadata": {
    "id": "0NV4wPkfHS3h"
   },
   "outputs": [],
   "source": [
    "Xids_train, Xmask_train = transformation(X_train) \n",
    "Xids_test, Xmask_test = transformation(X_test)"
   ]
  },
  {
   "cell_type": "code",
   "execution_count": null,
   "metadata": {
    "colab": {
     "base_uri": "https://localhost:8080/"
    },
    "id": "1vJfHkbITbKC",
    "outputId": "7164f5c6-fa1c-4f31-9449-a9ffa7b48e67"
   },
   "outputs": [
    {
     "name": "stdout",
     "output_type": "stream",
     "text": [
      "Xids_train.shape  : (219147, 160)\n",
      "Xmask_train.shape : (219147, 160)\n",
      "Xids_test.shape   : (24350, 160)\n",
      "Xmask_test.shape  : (24350, 160)\n"
     ]
    }
   ],
   "source": [
    "print(\"Xids_train.shape  :\", Xids_train.shape)\n",
    "print(\"Xmask_train.shape :\", Xmask_train.shape)\n",
    "print(\"Xids_test.shape   :\", Xids_test.shape)\n",
    "print(\"Xmask_test.shape  :\", Xmask_test.shape)"
   ]
  },
  {
   "cell_type": "code",
   "execution_count": null,
   "metadata": {
    "colab": {
     "base_uri": "https://localhost:8080/"
    },
    "id": "oQSgvvRlDfE-",
    "outputId": "3a6de5b4-62ae-450d-d5ad-c3ecf8f161d7"
   },
   "outputs": [
    {
     "data": {
      "text/plain": [
       "array([0, 0, 0, ..., 0, 1, 0])"
      ]
     },
     "execution_count": 30,
     "metadata": {},
     "output_type": "execute_result"
    }
   ],
   "source": [
    "y_train # labelımızı da matrise dönüştürmemiz lazım. vektör olarak bırakamayız"
   ]
  },
  {
   "cell_type": "code",
   "execution_count": null,
   "metadata": {
    "colab": {
     "base_uri": "https://localhost:8080/"
    },
    "id": "lHJJhrbztBv9",
    "outputId": "06faccd5-630f-4d2b-fca0-60f407c0a063"
   },
   "outputs": [
    {
     "data": {
      "text/plain": [
       "array([[0],\n",
       "       [0],\n",
       "       [0],\n",
       "       ...,\n",
       "       [0],\n",
       "       [1],\n",
       "       [0]])"
      ]
     },
     "execution_count": 31,
     "metadata": {},
     "output_type": "execute_result"
    }
   ],
   "source": [
    "labels_train = y_train.reshape(-1,1)  # -1: satır sayısı ne ise kendin ayarla, 1: feature/sütun sayısı\n",
    "labels_train\n",
    "# labelımızı tek boyutlu bir matrise dönüştürmüş olduk"
   ]
  },
  {
   "cell_type": "code",
   "execution_count": null,
   "metadata": {
    "colab": {
     "base_uri": "https://localhost:8080/"
    },
    "id": "O4_LS9A0dPqW",
    "outputId": "27457b2d-af0d-42fe-9cf6-85ba85c194a4"
   },
   "outputs": [
    {
     "data": {
      "text/plain": [
       "array([0, 0, 0, ..., 0, 0, 0])"
      ]
     },
     "execution_count": 32,
     "metadata": {},
     "output_type": "execute_result"
    }
   ],
   "source": [
    "y_test"
   ]
  },
  {
   "cell_type": "code",
   "execution_count": null,
   "metadata": {
    "colab": {
     "base_uri": "https://localhost:8080/"
    },
    "id": "rnnfsw0NdP3q",
    "outputId": "f3dcd193-0d76-41e5-c684-4171eec16caa"
   },
   "outputs": [
    {
     "data": {
      "text/plain": [
       "array([[0],\n",
       "       [0],\n",
       "       [0],\n",
       "       ...,\n",
       "       [0],\n",
       "       [0],\n",
       "       [0]])"
      ]
     },
     "execution_count": 33,
     "metadata": {},
     "output_type": "execute_result"
    }
   ],
   "source": [
    "labels_test = y_test.reshape(-1,1)\n",
    "labels_test"
   ]
  },
  {
   "cell_type": "code",
   "execution_count": null,
   "metadata": {
    "id": "dPqCWzWoWljh"
   },
   "outputs": [],
   "source": []
  },
  {
   "cell_type": "code",
   "execution_count": null,
   "metadata": {
    "colab": {
     "base_uri": "https://localhost:8080/"
    },
    "id": "9bAr9g42Wlst",
    "outputId": "aa0e6d5d-8c57-427f-e211-bcfadf07f0bd"
   },
   "outputs": [
    {
     "data": {
      "text/plain": [
       "array([[1., 0., 0., 0., 0., 0.],\n",
       "       [0., 1., 0., 0., 0., 0.],\n",
       "       [0., 0., 0., 1., 0., 0.],\n",
       "       [0., 0., 0., 0., 0., 1.],\n",
       "       [0., 0., 0., 0., 1., 0.],\n",
       "       [0., 0., 1., 0., 0., 0.]], dtype=float32)"
      ]
     },
     "execution_count": 34,
     "metadata": {},
     "output_type": "execute_result"
    }
   ],
   "source": [
    "from tensorflow.keras.utils import to_categorical\n",
    "\n",
    "l = np.array([0, 1, 3, 5, 4, 2])\n",
    "to_categorical(l, 6) \n",
    "\n",
    "# Burayı not olarak yazdık Label ınız 2 den fazla class a aitse\n",
    "# \"from tensorflow.keras.utils import to_categorical\" u kullanarak l = y_test/y_train inizi veriyorsunuz to_categorical, istediğiniz matris boyutuna getiriyor\n",
    "# .. Eğer bunu üstte benim modelim için kullansaydık matrisim 2 boyutlu olurdu ve sigmoid yerine softmax kullanmak zorunda kalırdık\n"
   ]
  },
  {
   "cell_type": "markdown",
   "metadata": {
    "id": "4TeftGUfeFDE"
   },
   "source": [
    "## Transformation Matrix to Tensor"
   ]
  },
  {
   "cell_type": "code",
   "execution_count": null,
   "metadata": {
    "id": "tbZZiFLF3twH"
   },
   "outputs": [],
   "source": [
    "# 2. ders\n",
    "# Tensor: Birden fazla matrisin bir araya gelerek oluşturduğu yapı\n",
    "# Bert modelleri bizden bunları tensor olarak istiyor"
   ]
  },
  {
   "cell_type": "code",
   "execution_count": null,
   "metadata": {
    "colab": {
     "base_uri": "https://localhost:8080/"
    },
    "id": "_WwNbUgys-oJ",
    "outputId": "067120b2-ee91-4da4-b083-363cfe2da679"
   },
   "outputs": [
    {
     "data": {
      "text/plain": [
       "<TensorSliceDataset element_spec=(TensorSpec(shape=(160,), dtype=tf.float64, name=None), TensorSpec(shape=(160,), dtype=tf.float64, name=None), TensorSpec(shape=(1,), dtype=tf.int64, name=None))>"
      ]
     },
     "execution_count": 35,
     "metadata": {},
     "output_type": "execute_result"
    }
   ],
   "source": [
    "import tensorflow as tf\n",
    "dataset_train = tf.data.Dataset.from_tensor_slices((Xids_train, Xmask_train, labels_train))\n",
    "dataset_train\n",
    "# Xids_train, Xmask_trainn, labels_train i tensor içerisinde birleştirecek\n",
    "# Yani her birini tensor yapacak(3 tane tensor döndürecek)\n",
    "# Aynı şeyi test seti için de yapalım"
   ]
  },
  {
   "cell_type": "code",
   "execution_count": null,
   "metadata": {
    "colab": {
     "base_uri": "https://localhost:8080/"
    },
    "id": "DoYrAWaieXJ4",
    "outputId": "6957147d-ab9c-497e-cbdd-a969ad9f05b3"
   },
   "outputs": [
    {
     "data": {
      "text/plain": [
       "<TensorSliceDataset element_spec=(TensorSpec(shape=(160,), dtype=tf.float64, name=None), TensorSpec(shape=(160,), dtype=tf.float64, name=None), TensorSpec(shape=(1,), dtype=tf.int64, name=None))>"
      ]
     },
     "execution_count": 36,
     "metadata": {},
     "output_type": "execute_result"
    }
   ],
   "source": [
    "dataset_test = tf.data.Dataset.from_tensor_slices((Xids_test, Xmask_test, labels_test))\n",
    "dataset_test\n",
    "\n",
    "# Bunları tensorlere dönüştürüp text e verdiğim zaman bert şunu der, bunların boyutları aynı ve benim için aynı şey bunlar\n",
    "# .. Bunların hangisi input id, hangisi attention mask diye sorar"
   ]
  },
  {
   "cell_type": "code",
   "execution_count": null,
   "metadata": {
    "id": "QPM4QFRgm_Dq"
   },
   "outputs": [],
   "source": [
    "def map_func(Xids, Xmask, labels):\n",
    "    # we convert our three-item tuple into a two-item tuple where the input item is a dictionary\n",
    "    return {'input_ids': Xids, 'attention_mask': Xmask}, labels\n",
    "# input_ids, attention_mask: Bu yazdığımız isimler yukarı tokenizer(tokenleri ayırma) işlemi yaptığımız isimler ile aynı olmalı\n",
    "# NOT: Bunu süslü parantez içerisinde belirliyoruz\n",
    "# Burada input ve output ayrımını yapıyoruz\n",
    "# input: {'input_ids': Xids, 'attention_mask': Xmask}\n",
    "# output: labels"
   ]
  },
  {
   "cell_type": "code",
   "execution_count": null,
   "metadata": {
    "id": "KQLmS8czerNY"
   },
   "outputs": [],
   "source": [
    "# then we use the dataset map method to apply this transformation\n",
    "dataset_train = dataset_train.map(map_func)\n",
    "dataset_test = dataset_test.map(map_func)"
   ]
  },
  {
   "cell_type": "code",
   "execution_count": null,
   "metadata": {
    "colab": {
     "base_uri": "https://localhost:8080/"
    },
    "id": "w9siHyyDp_CR",
    "outputId": "6662a3dc-5a9a-4bc5-f73d-21528ef9fb6e"
   },
   "outputs": [
    {
     "data": {
      "text/plain": [
       "<MapDataset element_spec=({'input_ids': TensorSpec(shape=(160,), dtype=tf.float64, name=None), 'attention_mask': TensorSpec(shape=(160,), dtype=tf.float64, name=None)}, TensorSpec(shape=(1,), dtype=tf.int64, name=None))>"
      ]
     },
     "execution_count": 39,
     "metadata": {},
     "output_type": "execute_result"
    }
   ],
   "source": [
    "dataset_train"
   ]
  },
  {
   "cell_type": "code",
   "execution_count": null,
   "metadata": {
    "colab": {
     "base_uri": "https://localhost:8080/"
    },
    "id": "Dn5fSio6fNXc",
    "outputId": "8ea33510-ea1a-4608-83fe-1ae18353bb50"
   },
   "outputs": [
    {
     "data": {
      "text/plain": [
       "<MapDataset element_spec=({'input_ids': TensorSpec(shape=(160,), dtype=tf.float64, name=None), 'attention_mask': TensorSpec(shape=(160,), dtype=tf.float64, name=None)}, TensorSpec(shape=(1,), dtype=tf.int64, name=None))>"
      ]
     },
     "execution_count": 40,
     "metadata": {},
     "output_type": "execute_result"
    }
   ],
   "source": [
    "dataset_test"
   ]
  },
  {
   "cell_type": "markdown",
   "metadata": {
    "id": "VCuOU85Ldns6"
   },
   "source": [
    "## Batch Size and Shuffle Train Dataset"
   ]
  },
  {
   "cell_type": "code",
   "execution_count": null,
   "metadata": {
    "id": "v9qUMrEG87u3"
   },
   "outputs": [],
   "source": [
    "# tensorleri de modele batch size a bölüp vermek lazım\n",
    "# Bert modelini geliştiren developerların önerisi: batch_size: 16,32 deneyin\n",
    "# Ancak overfit varsa 64 vs de deneyebilirsiniz. Ancak batch_size küçük oldukça model daha iyi öğrenmeye meyillidir"
   ]
  },
  {
   "cell_type": "code",
   "execution_count": null,
   "metadata": {
    "id": "1PDQLvW_m_ww"
   },
   "outputs": [],
   "source": [
    "batch_size = 32 # 16, 32\n",
    "\n",
    "# batch_size \n",
    "# fit into a batch of 32\n",
    "train_ds = dataset_train.batch(batch_size) # Gözlemlerin yeri sabit olduğundan metricler için kullanacağız. \n",
    "val_ds = dataset_test.batch(batch_size)\n",
    "# Hem train seti ve validation setini 32 li paketlere böldük ama altta extra bir şey yaptık\n",
    "\n",
    "length = len(X_train)\n",
    "train_ds2 = dataset_train.shuffle(buffer_size = length, reshuffle_each_iteration=True).batch(batch_size) \n",
    "\n",
    "# train_ds\n",
    "# shuffle: Tensorlar arasında her epoch da karılma işlemi olmasını istiyorsam bunu kullanıyorum\n",
    "# buffer_size = length : Kaçlı paketlere bölüp karıştırayım. Dökümanda datanın kendi boyutuna eşit sayı verirseniz en iyi sonucu alırsınız diyor. O yüzden buffer_size a datanın kendi boyutunu verdik\n",
    "# reshuffle_each_iteration=True: Her iterasyonda dataseti kendi içinde karılsın mı \n",
    "# Buffer size boyutu train datasının boyutuyla aynı olduğunda eğitim aşamasında train datası en iyi şekilde karıştırılır.\n",
    "\n",
    "# Eğitim aşamasında train_ds2, predict aşamasında train_ds kullanacağım(Çünkü train_ds2 yi predict te kullansaydık predict te kötü sonuçlar gelir(Aşağıda göreceğiz))"
   ]
  },
  {
   "cell_type": "markdown",
   "metadata": {
    "id": "qrDXF1ibl76v"
   },
   "source": [
    "## Creating Model"
   ]
  },
  {
   "cell_type": "code",
   "execution_count": null,
   "metadata": {
    "id": "p__xkFOt4_oI"
   },
   "outputs": [],
   "source": [
    "def create_model():\n",
    "    from transformers import TFAutoModel  # AutoModel başına TF yazabiliyoruz. Notebook u dışardan göre biri Tensorflow un Tensorlarını mı kullanmış bilsin diye başına TF yazdık\n",
    "    model = TFAutoModel.from_pretrained(\"dbmdz/bert-base-turkish-uncased\")\n",
    "    input_ids = tf.keras.layers.Input(shape=(160,), name='input_ids', dtype='int32')\n",
    "    attention_mask = tf.keras.layers.Input(shape=(160,), name='attention_mask', dtype='int32')\n",
    "\n",
    "    embeddings = model.bert(input_ids=input_ids, attention_mask=attention_mask)[\"pooler_output\"] #[1]\n",
    "\n",
    "    x = tf.keras.layers.Dense(160, activation='relu')(embeddings)  # dense layer a word_embedding bilgilerini aktar. Aktaracağım layer ı da tuple içinde (\"embeddings\") yazıyorum.(functional API tarzı(Önceden sequential tarzı ile yazıyorduk))\n",
    "    x = tf.keras.layers.Dropout(0.1, name=\"dropout\")(x) #0.1 # x deki bilgileri dropout a aktardık\n",
    "    y = tf.keras.layers.Dense(1, activation='sigmoid', name='outputs')(x) # Üstteki x bilgileri de buraya aktardık. Her bir token hangi tokenlerle kullanılmış bu kısımda görüyor. Eğer son bir revize yapılacaksa bu kısımda yapılıyor\n",
    "\n",
    "    return tf.keras.Model(inputs=[input_ids, attention_mask], outputs=y) # inputlarımı ve outputumu veriyoruz\n",
    "\n",
    "# Modeli tanımlıyoruz burada. Tensorflow un kendi sayfasında kullandığı modeli aldık yapıştırdık buraya direk\n",
    "#  dtype='int32': Bert modelleri \"int32\" de çalışır(Float tı normalde)\n",
    "# embeddings: Model üzerinde eğitilmiş hazır olan tokenleri çekme kısmı\n",
    "# ... input_ids=input_ids, attention_mask=attention_mask: dataya input u verdik ve her bir tokene karşılık gelen word_embeddingleri çekeceğiz\n",
    "# [\"pooler_output\"]: bert modellerin üzerinde eğitildiği ilgili ....\n",
    "# [1]: Bu bert modelimizin 1. katmanı olduğu için \"pooler_output\" yerine \"1\" de yazabilirsiniz\n",
    "# Üstte to_categorical kullansaydık son kısımda \" 1, activation='sigmoid' \" yerine  \"2, activation='softmax' \" yazmalıydık\n",
    "# outputs=y : buradaki y, bir nevi y_pred ler bunu eğitim aşamasındaki y ler ile karşılaştırıp loss lar elde edecek\n",
    "\n",
    "\"\"\"\n",
    "    from transformers import TFAutoModel\n",
    "    model = TFAutoModel.from_pretrained(\"dbmdz/bert-base-turkish-uncased\")\n",
    "# Bu 2 sini her zaman fonksiyon içinde kullanın\n",
    "\"\"\""
   ]
  },
  {
   "cell_type": "code",
   "execution_count": null,
   "metadata": {
    "colab": {
     "base_uri": "https://localhost:8080/"
    },
    "id": "tPRqyWNQDzyb",
    "outputId": "89b46dc6-b4da-4cfb-dc56-c2291b618f32"
   },
   "outputs": [
    {
     "name": "stderr",
     "output_type": "stream",
     "text": [
      "Some layers from the model checkpoint at dbmdz/bert-base-turkish-uncased were not used when initializing TFBertModel: ['mlm___cls', 'nsp___cls']\n",
      "- This IS expected if you are initializing TFBertModel from the checkpoint of a model trained on another task or with another architecture (e.g. initializing a BertForSequenceClassification model from a BertForPreTraining model).\n",
      "- This IS NOT expected if you are initializing TFBertModel from the checkpoint of a model that you expect to be exactly identical (initializing a BertForSequenceClassification model from a BertForSequenceClassification model).\n",
      "All the layers of TFBertModel were initialized from the model checkpoint at dbmdz/bert-base-turkish-uncased.\n",
      "If your task is similar to the task the model of the checkpoint was trained on, you can already use TFBertModel for predictions without further training.\n"
     ]
    }
   ],
   "source": [
    "with strategy.scope():\n",
    "  optimizer = tf.keras.optimizers.Adam(learning_rate=2e-5) #3e-5, 5e-5\n",
    "  loss = tf.keras.losses.BinaryCrossentropy()\n",
    "  recall = tf.keras.metrics.Recall()\n",
    "  model3 = create_model()\n",
    "  model3.compile(optimizer=optimizer, loss=loss, metrics=[recall])\n",
    "\n",
    "  # NOT: initializing TFBertModel: ['mlm___cls', 'nsp___cls'] uyarısını dikkate almayın"
   ]
  },
  {
   "cell_type": "code",
   "execution_count": null,
   "metadata": {
    "id": "GHBMQ5bTxL4o"
   },
   "outputs": [],
   "source": [
    "#pd.Series(y).value_counts(normalize=True)"
   ]
  },
  {
   "cell_type": "code",
   "execution_count": null,
   "metadata": {
    "id": "GpqDx2KRxNpj"
   },
   "outputs": [],
   "source": [
    "#weights = {0:0.05, 1:0.95}"
   ]
  },
  {
   "cell_type": "code",
   "execution_count": null,
   "metadata": {
    "colab": {
     "base_uri": "https://localhost:8080/"
    },
    "id": "tLEyg_TUVTXn",
    "outputId": "ab112057-4c2f-42bb-f8bb-67cbc0dd4fdd"
   },
   "outputs": [
    {
     "name": "stdout",
     "output_type": "stream",
     "text": [
      "Model: \"model\"\n",
      "__________________________________________________________________________________________________\n",
      " Layer (type)                   Output Shape         Param #     Connected to                     \n",
      "==================================================================================================\n",
      " input_ids (InputLayer)         [(None, 160)]        0           []                               \n",
      "                                                                                                  \n",
      " attention_mask (InputLayer)    [(None, 160)]        0           []                               \n",
      "                                                                                                  \n",
      " bert (TFBertMainLayer)         TFBaseModelOutputWi  110617344   ['input_ids[0][0]',              \n",
      "                                thPoolingAndCrossAt               'attention_mask[0][0]']         \n",
      "                                tentions(last_hidde                                               \n",
      "                                n_state=(None, 160,                                               \n",
      "                                 768),                                                            \n",
      "                                 pooler_output=(Non                                               \n",
      "                                e, 768),                                                          \n",
      "                                 past_key_values=No                                               \n",
      "                                ne, hidden_states=N                                               \n",
      "                                one, attentions=Non                                               \n",
      "                                e, cross_attentions                                               \n",
      "                                =None)                                                            \n",
      "                                                                                                  \n",
      " dense (Dense)                  (None, 160)          123040      ['bert[0][1]']                   \n",
      "                                                                                                  \n",
      " dropout (Dropout)              (None, 160)          0           ['dense[0][0]']                  \n",
      "                                                                                                  \n",
      " outputs (Dense)                (None, 1)            161         ['dropout[0][0]']                \n",
      "                                                                                                  \n",
      "==================================================================================================\n",
      "Total params: 110,740,545\n",
      "Trainable params: 110,740,545\n",
      "Non-trainable params: 0\n",
      "__________________________________________________________________________________________________\n"
     ]
    }
   ],
   "source": [
    "model3.summary()\n",
    "# 110,740,545 parametre ile işlem görmüş data"
   ]
  },
  {
   "cell_type": "code",
   "execution_count": null,
   "metadata": {
    "colab": {
     "base_uri": "https://localhost:8080/"
    },
    "id": "YxZ_YPsK61ll",
    "outputId": "20d29ef1-1af8-4b11-e340-57e43e86136e"
   },
   "outputs": [
    {
     "name": "stdout",
     "output_type": "stream",
     "text": [
      "6849/6849 [==============================] - 808s 105ms/step - loss: 0.1779 - recall: 0.8232 - val_loss: 0.0794 - val_recall: 0.8611\n"
     ]
    }
   ],
   "source": [
    "history = model3.fit(\n",
    "    train_ds2, validation_data= val_ds, class_weight= {0:1, 1:4},\n",
    "    epochs=1) # epoch= 2 or 3 # Dökümanda \"2 ve ya 3 den daha fazla epoch yaptırmayın overfit e gider\" der. Overfit i epochs=1 ile engellediğimiz için 1 epoch yaptık\n",
    "# epoch=1 de karışma işlemi olmayacak/gerek kalmayacak??? Evet ama her zaman böyle olmayacak\n",
    "\n",
    "# Burada train_ds2 yi kullandık \n",
    "# class_weight= {0:1, 1:4} : Ağırlıklandırmayı 1 e 1 yapmaya gerek yok. Burada bu şekilde yapmayı tercih ettik. Güzel sonuçlar aldığımızı göreceğiz\n",
    "# Bu işlem, CPU : 180 saat, GPU: 2-3 saat, TPU: 10 dk sürüyor"
   ]
  },
  {
   "cell_type": "markdown",
   "metadata": {
    "id": "LjsWW1VAmPxK"
   },
   "source": [
    "## Model evaluation"
   ]
  },
  {
   "cell_type": "code",
   "execution_count": null,
   "metadata": {
    "colab": {
     "base_uri": "https://localhost:8080/"
    },
    "id": "Po2U0-F_D1ks",
    "outputId": "abff284d-6192-4103-d7f9-b9c0e0258f0c"
   },
   "outputs": [
    {
     "name": "stdout",
     "output_type": "stream",
     "text": [
      "761/761 [==============================] - 35s 38ms/step\n",
      "              precision    recall  f1-score   support\n",
      "\n",
      "           0       0.99      0.98      0.99     22982\n",
      "           1       0.71      0.86      0.78      1368\n",
      "\n",
      "    accuracy                           0.97     24350\n",
      "   macro avg       0.85      0.92      0.88     24350\n",
      "weighted avg       0.98      0.97      0.97     24350\n",
      "\n"
     ]
    }
   ],
   "source": [
    "from sklearn.metrics import classification_report, confusion_matrix\n",
    "\n",
    "y_pred = model3.predict(val_ds) >= 0.5\n",
    "\n",
    "\n",
    "print(classification_report(y_test, y_pred))\n",
    "\n",
    "# Bu kadar dengesiz bir datada 0.71 precision ı hiç bir metod da yakalayamazsınız.\n",
    "# recall 0.86 gelmiş(0.91 e kadar çıkıyor skor. Bir kaç defa daha çalıştırırsanız)\n",
    "# Modeli her çalıştırdığınızda bir değişkene kaydedelim ki o skorları kaybetmeyelim"
   ]
  },
  {
   "cell_type": "code",
   "execution_count": null,
   "metadata": {
    "colab": {
     "base_uri": "https://localhost:8080/"
    },
    "id": "He4zMpFO6cJE",
    "outputId": "d4156cc8-0bb8-4702-bceb-69ad873937b8"
   },
   "outputs": [
    {
     "name": "stdout",
     "output_type": "stream",
     "text": [
      "6849/6849 [==============================] - 205s 30ms/step\n",
      "              precision    recall  f1-score   support\n",
      "\n",
      "           0       0.99      0.98      0.99    206839\n",
      "           1       0.76      0.91      0.83     12308\n",
      "\n",
      "    accuracy                           0.98    219147\n",
      "   macro avg       0.88      0.95      0.91    219147\n",
      "weighted avg       0.98      0.98      0.98    219147\n",
      "\n"
     ]
    }
   ],
   "source": [
    "y_train_pred = model3.predict(train_ds) >= 0.5\n",
    "\n",
    "\n",
    "print(classification_report(y_train, y_train_pred)) "
   ]
  },
  {
   "cell_type": "code",
   "execution_count": null,
   "metadata": {
    "colab": {
     "base_uri": "https://localhost:8080/"
    },
    "id": "qi-n9QAZZY8U",
    "outputId": "a925b593-38d4-465d-885a-77c9089d63e1"
   },
   "outputs": [
    {
     "name": "stdout",
     "output_type": "stream",
     "text": [
      "6849/6849 [==============================] - 195s 28ms/step\n",
      "              precision    recall  f1-score   support\n",
      "\n",
      "           0       0.94      0.93      0.94    206839\n",
      "           1       0.06      0.07      0.06     12308\n",
      "\n",
      "    accuracy                           0.88    219147\n",
      "   macro avg       0.50      0.50      0.50    219147\n",
      "weighted avg       0.89      0.88      0.89    219147\n",
      "\n"
     ]
    }
   ],
   "source": [
    "y_train_pred2 = model3.predict(train_ds2) >= 0.5\n",
    "\n",
    "\n",
    "print(classification_report(y_train, y_train_pred2)) \n",
    "# prediction da train_ds2 kullansaydık, sonuçlarımız böyle saçmasapan gelirdi"
   ]
  },
  {
   "cell_type": "code",
   "execution_count": null,
   "metadata": {
    "id": "zMMRbzVCEWvR"
   },
   "outputs": [],
   "source": [
    "# Ağırlıklandırma yapmadan skorlarımız\n",
    "# Test: 0,61 0.75\n",
    "# Train: 0.85, 0.90 idi ... Burada;\n",
    "# Test : 0.79      0.80\n",
    "# Train: 0.85      0.85  oldu\n",
    "\n",
    "# Bu kadar dengesiz bir datada(%96 ya, %4) skorları ML, DL de elde edemezsiniz. O yüzden BERT i tercih edin"
   ]
  },
  {
   "cell_type": "markdown",
   "metadata": {
    "id": "bVKSWom7SlX0"
   },
   "source": [
    "Unweighted model\n",
    "\n",
    "TEST SET\n",
    "                \n",
    "                precision    recall  f1-score   support\n",
    "\n",
    "           0       0.99      0.97      0.98     22987\n",
    "           1       0.79      0.80      0.80      1365\n",
    "\n",
    "  \n",
    "\n",
    "TRAIN SET\n",
    "\n",
    "                precision    recall  f1-score   support\n",
    "\n",
    "           0       1.00      0.97      0.99    206825\n",
    "           1       0.85      0.85      0.85     12311\n",
    "\n",
    "    \n"
   ]
  },
  {
   "cell_type": "markdown",
   "metadata": {
    "id": "qUekrybDExP_"
   },
   "source": [
    "![image.png](data:image/png;base64,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)"
   ]
  },
  {
   "cell_type": "code",
   "execution_count": null,
   "metadata": {
    "id": "GVdM_75GXciM"
   },
   "outputs": [],
   "source": []
  },
  {
   "cell_type": "code",
   "execution_count": null,
   "metadata": {
    "colab": {
     "base_uri": "https://localhost:8080/",
     "height": 296
    },
    "id": "LmtIvNaBKE6J",
    "outputId": "3de6cb65-5b6d-432f-e55d-24a3ff8f58ac"
   },
   "outputs": [
    {
     "name": "stdout",
     "output_type": "stream",
     "text": [
      "761/761 [==============================] - 24s 28ms/step\n"
     ]
    },
    {
     "data": {
      "image/png": "[encoded data removed]",
      "text/plain": [
       "<Figure size 432x288 with 1 Axes>"
      ]
     },
     "metadata": {
      "needs_background": "light"
     },
     "output_type": "display_data"
    }
   ],
   "source": [
    "from sklearn.metrics import PrecisionRecallDisplay\n",
    "import matplotlib.pyplot as plt\n",
    "\n",
    "y_pred_proba = model3.predict(val_ds)\n",
    "\n",
    "PrecisionRecallDisplay.from_predictions(y_test, y_pred_proba)\n",
    "plt.show();\n",
    "\n",
    "# Model performansı %88, DL de %72 civarındaydı"
   ]
  },
  {
   "cell_type": "code",
   "execution_count": null,
   "metadata": {
    "id": "_B6Sv63_H3we"
   },
   "outputs": [],
   "source": [
    "# 3. ders\n",
    "model3.save(\"/content/drive/MyDrive/sentiment_model.h5\")"
   ]
  },
  {
   "cell_type": "code",
   "execution_count": null,
   "metadata": {
    "id": "X_2ErgJnLKV0"
   },
   "outputs": [],
   "source": [
    "from tensorflow.keras.models import load_model\n",
    "model4 = load_model('/content/drive/MyDrive/sentiment_model.h5')"
   ]
  },
  {
   "cell_type": "code",
   "execution_count": null,
   "metadata": {
    "id": "yaARaSiXEstW"
   },
   "outputs": [],
   "source": [
    "# initialize tokenizer from transformers\n",
    "from transformers import AutoTokenizer, TFAutoModel\n",
    "\n",
    "tokenizers = AutoTokenizer.from_pretrained(\"dbmdz/bert-base-turkish-uncased\")\n",
    "\n",
    "def prep_data(text):\n",
    "    # tokenize to get input IDs and attention mask tensors\n",
    "    tokens = tokenizers.encode_plus(text, max_length=160,\n",
    "                                   truncation=True, padding='max_length',\n",
    "                                   add_special_tokens=True,\n",
    "                                   return_tensors='tf')  # her bir yorumu otomatik olarak tensor a dönüştür\n",
    "  \n",
    "    return {'input_ids': tokens['input_ids'],      \n",
    "            'attention_mask': tokens['attention_mask']} \n",
    "\n",
    "# Tensor olarak dönüştürdüğüm için return ler tensor olarak gelecek ve prediction için hazır olmuş olacak"
   ]
  },
  {
   "cell_type": "code",
   "execution_count": null,
   "metadata": {
    "id": "-tbmF2a5QZHD"
   },
   "outputs": [],
   "source": [
    "review1 = \"çok beğendim herkese tavsiye ederim\"\n",
    "review2 = \"süper ürün aynı gün elime geçti\"\n",
    "review3 = \"büyük bir hayal kırıklığı yaşadım bu ürünü bu markaya yakıştıramadım\"\n",
    "review4 = \"kelimelerle tarif edilemez\"\n",
    "review5 = \"tasarımı harika ancak kargo çok geç geldi ve ürün açılmıştı hayal kırıklığı gerçekten\"\n",
    "review6 = \"hiç resimde gösterildiği gibi değil\"\n",
    "review7 = \"kötü yorumlar gözümü korkutmuştu ancak hiçbir sorun yaşamadım teşekkürler\"\n",
    "review8 = \"hiç bu kadar kötü bir satıcıya denk gelmemiştim ürün siparişimi iptal ediyorum\"\n",
    "review9 = \"tam bir fiyat performans ürünü\"\n",
    "review10 = \"beklediğim gibi çıkmadı\"\n",
    "review11 = \"on numara beş yıldız\"\n",
    "review12 = \"bu kargoyu biran önce bırakın. yoksa üründe sıkıntı yok\"\n",
    "review13 = \"televizyonun görüntü kalitesi çok kötü, dün akşam evde arkadaşlarla toplandık. yedik, içtik, sohbet ettik. Sonra televizyonda Türkiye - İngiltere maçını seyrettik. \"\n",
    "review14 = '1 gün gibi kısa bir sürede elime geçti. Ve bu fıyata süper bir ürün tavsiye ederim. Lakin eli büyük olan kişiler daha büyük modelini tercih edebilirler ortaboy ürün. Teşekkürler '\n",
    "review15 = \"alınca anlarsın anyayı konyayı\"\n",
    "review16 = \"çöpe atacak paran varsa al\"\n",
    "review17= \"Telefon çok da kötü değil\"\n",
    "review18 = \"al da gününü gör\"\n",
    "review19 = \"Ürün harika ama satıcı ve kargo berbat\"\n",
    "review20 = \"kargo süper ama ürün berbat\"\n",
    "review21 = \"Aldigim TV cok kaliteli diye dusunmustum, sonradan cok da iyi bir TV olmadigini dusundum, ama neyse yine de memnunum.\"\n",
    "review22 = \"😊\"\n",
    "review23 = \":)\"\n",
    "review24 = \"I ❤️ you\"\n",
    "review25 = 'telefon kesinlikle bu parayı hak etmiyor. yeni hiç bir özelliği yok. ancak küçük ekran sevenler için iyi bir telefon'\n",
    "review26 = 'müthiş bir telefon ama bu parayı hak etmiyor'\n",
    "reviews = [review1, review2, review3, review4, review5, review6, review7, review8, review9, review10, review11, review12, review13, review14, review15, review16, review17, \n",
    "           review18, review19, review20, review21, review22, review23, review24, review25, review26] "
   ]
  },
  {
   "cell_type": "code",
   "execution_count": null,
   "metadata": {
    "colab": {
     "base_uri": "https://localhost:8080/"
    },
    "id": "7fecjxatQayR",
    "outputId": "b8c98445-e05e-41a5-e122-93221170864c"
   },
   "outputs": [
    {
     "name": "stdout",
     "output_type": "stream",
     "text": [
      "1/1 [==============================] - 0s 191ms/step\n",
      "1/1 [==============================] - 0s 188ms/step\n",
      "1/1 [==============================] - 0s 186ms/step\n",
      "1/1 [==============================] - 0s 189ms/step\n",
      "1/1 [==============================] - 0s 189ms/step\n",
      "1/1 [==============================] - 0s 188ms/step\n",
      "1/1 [==============================] - 0s 189ms/step\n",
      "1/1 [==============================] - 0s 187ms/step\n",
      "1/1 [==============================] - 0s 188ms/step\n",
      "1/1 [==============================] - 0s 186ms/step\n",
      "1/1 [==============================] - 0s 187ms/step\n",
      "1/1 [==============================] - 0s 186ms/step\n",
      "1/1 [==============================] - 0s 195ms/step\n",
      "1/1 [==============================] - 0s 196ms/step\n",
      "1/1 [==============================] - 0s 188ms/step\n",
      "1/1 [==============================] - 0s 195ms/step\n",
      "1/1 [==============================] - 0s 185ms/step\n",
      "1/1 [==============================] - 0s 187ms/step\n",
      "1/1 [==============================] - 0s 186ms/step\n",
      "1/1 [==============================] - 0s 189ms/step\n",
      "1/1 [==============================] - 0s 186ms/step\n",
      "1/1 [==============================] - 0s 192ms/step\n",
      "1/1 [==============================] - 0s 185ms/step\n",
      "1/1 [==============================] - 0s 194ms/step\n",
      "1/1 [==============================] - 0s 194ms/step\n",
      "1/1 [==============================] - 0s 192ms/step\n"
     ]
    }
   ],
   "source": [
    "probs = []\n",
    "for i in reviews:\n",
    "\n",
    "  in_tensor = prep_data(i)\n",
    "\n",
    "  prob = model4.predict(in_tensor)[0][0]\n",
    "\n",
    "  probs.append(prob)\n",
    "\n",
    "  # her aşamada aldığım olasılığı probs içine ata"
   ]
  },
  {
   "cell_type": "code",
   "execution_count": null,
   "metadata": {
    "colab": {
     "base_uri": "https://localhost:8080/"
    },
    "id": "yZ41unnxp3XV",
    "outputId": "80f33e24-a245-47bb-a3f7-1ad55317f90a"
   },
   "outputs": [
    {
     "data": {
      "text/plain": [
       "{'input_ids': <tf.Tensor: shape=(1, 160), dtype=int32, numpy=\n",
       " array([[   2, 2783, 5830, 1993, 3084, 2201, 2011, 8663, 2303, 9567,    3,\n",
       "            0,    0,    0,    0,    0,    0,    0,    0,    0,    0,    0,\n",
       "            0,    0,    0,    0,    0,    0,    0,    0,    0,    0,    0,\n",
       "            0,    0,    0,    0,    0,    0,    0,    0,    0,    0,    0,\n",
       "            0,    0,    0,    0,    0,    0,    0,    0,    0,    0,    0,\n",
       "            0,    0,    0,    0,    0,    0,    0,    0,    0,    0,    0,\n",
       "            0,    0,    0,    0,    0,    0,    0,    0,    0,    0,    0,\n",
       "            0,    0,    0,    0,    0,    0,    0,    0,    0,    0,    0,\n",
       "            0,    0,    0,    0,    0,    0,    0,    0,    0,    0,    0,\n",
       "            0,    0,    0,    0,    0,    0,    0,    0,    0,    0,    0,\n",
       "            0,    0,    0,    0,    0,    0,    0,    0,    0,    0,    0,\n",
       "            0,    0,    0,    0,    0,    0,    0,    0,    0,    0,    0,\n",
       "            0,    0,    0,    0,    0,    0,    0,    0,    0,    0,    0,\n",
       "            0,    0,    0,    0,    0,    0,    0,    0,    0,    0,    0,\n",
       "            0,    0,    0,    0,    0,    0]], dtype=int32)>,\n",
       " 'attention_mask': <tf.Tensor: shape=(1, 160), dtype=int32, numpy=\n",
       " array([[1, 1, 1, 1, 1, 1, 1, 1, 1, 1, 1, 0, 0, 0, 0, 0, 0, 0, 0, 0, 0, 0,\n",
       "         0, 0, 0, 0, 0, 0, 0, 0, 0, 0, 0, 0, 0, 0, 0, 0, 0, 0, 0, 0, 0, 0,\n",
       "         0, 0, 0, 0, 0, 0, 0, 0, 0, 0, 0, 0, 0, 0, 0, 0, 0, 0, 0, 0, 0, 0,\n",
       "         0, 0, 0, 0, 0, 0, 0, 0, 0, 0, 0, 0, 0, 0, 0, 0, 0, 0, 0, 0, 0, 0,\n",
       "         0, 0, 0, 0, 0, 0, 0, 0, 0, 0, 0, 0, 0, 0, 0, 0, 0, 0, 0, 0, 0, 0,\n",
       "         0, 0, 0, 0, 0, 0, 0, 0, 0, 0, 0, 0, 0, 0, 0, 0, 0, 0, 0, 0, 0, 0,\n",
       "         0, 0, 0, 0, 0, 0, 0, 0, 0, 0, 0, 0, 0, 0, 0, 0, 0, 0, 0, 0, 0, 0,\n",
       "         0, 0, 0, 0, 0, 0]], dtype=int32)>}"
      ]
     },
     "execution_count": 111,
     "metadata": {},
     "output_type": "execute_result"
    }
   ],
   "source": [
    "in_tensor\n",
    "# in_tensor istediğim formata gelmiş(tf.Tensor, shape=(1, 160), dtype=int32)"
   ]
  },
  {
   "cell_type": "code",
   "execution_count": null,
   "metadata": {
    "colab": {
     "base_uri": "https://localhost:8080/"
    },
    "id": "bdtIuEtRBvqB",
    "outputId": "baa9ceea-5258-45c3-ca48-26742a602a88"
   },
   "outputs": [
    {
     "name": "stdout",
     "output_type": "stream",
     "text": [
      "1/1 [==============================] - 0s 192ms/step\n"
     ]
    },
    {
     "data": {
      "text/plain": [
       "array([[0.71006334]], dtype=float32)"
      ]
     },
     "execution_count": 112,
     "metadata": {},
     "output_type": "execute_result"
    }
   ],
   "source": [
    "model4.predict(in_tensor) # Sonucu 2 boyutlu döndürüyor"
   ]
  },
  {
   "cell_type": "code",
   "execution_count": null,
   "metadata": {
    "colab": {
     "base_uri": "https://localhost:8080/"
    },
    "id": "bq6kH0JeUAEU",
    "outputId": "c96de3cc-6b50-4702-c37c-9a03fc15ab05"
   },
   "outputs": [
    {
     "name": "stdout",
     "output_type": "stream",
     "text": [
      "1/1 [==============================] - 0s 188ms/step\n"
     ]
    },
    {
     "data": {
      "text/plain": [
       "0.71006334"
      ]
     },
     "execution_count": 113,
     "metadata": {},
     "output_type": "execute_result"
    }
   ],
   "source": [
    "model4.predict(in_tensor)[0][0]  # 2 boyutlu array in içerisinden bu değri çekmek için [0][0] yaptık sona"
   ]
  },
  {
   "cell_type": "code",
   "execution_count": null,
   "metadata": {
    "colab": {
     "base_uri": "https://localhost:8080/"
    },
    "id": "TMaJLPfQEwlz",
    "outputId": "7a845f75-a69b-4755-bf24-fbd2c720ab42"
   },
   "outputs": [
    {
     "data": {
      "text/plain": [
       "[0.0013206474,\n",
       " 0.0020754011,\n",
       " 0.9985483,\n",
       " 0.013375679,\n",
       " 0.98778343,\n",
       " 0.99673295,\n",
       " 0.009441297,\n",
       " 0.9988051,\n",
       " 0.001162276,\n",
       " 0.9985416,\n",
       " 0.0016913788,\n",
       " 0.03950867,\n",
       " 0.9977518,\n",
       " 0.0034353388,\n",
       " 0.064463675,\n",
       " 0.7699374,\n",
       " 0.11045295,\n",
       " 0.02207765,\n",
       " 0.37644976,\n",
       " 0.9952983,\n",
       " 0.18084016,\n",
       " 0.009348301,\n",
       " 0.012465779,\n",
       " 0.016036171,\n",
       " 0.9640639,\n",
       " 0.71006334]"
      ]
     },
     "execution_count": 114,
     "metadata": {},
     "output_type": "execute_result"
    }
   ],
   "source": [
    "probs"
   ]
  },
  {
   "cell_type": "code",
   "execution_count": null,
   "metadata": {
    "colab": {
     "base_uri": "https://localhost:8080/"
    },
    "id": "dxgMYBczYyNC",
    "outputId": "69101141-796b-4a04-8403-9d5401fe78cd"
   },
   "outputs": [
    {
     "data": {
      "text/plain": [
       "array([0, 0, 1, 0, 1, 1, 0, 1, 0, 1, 0, 0, 1, 0, 0, 1, 0, 0, 0, 1, 0, 0,\n",
       "       0, 0, 1, 1])"
      ]
     },
     "execution_count": 115,
     "metadata": {},
     "output_type": "execute_result"
    }
   ],
   "source": [
    "classes  = (np.array(probs) >= 0.5).astype(\"int\")\n",
    "classes"
   ]
  },
  {
   "cell_type": "code",
   "execution_count": null,
   "metadata": {
    "id": "IgH72FPhYyBr"
   },
   "outputs": [],
   "source": [
    "my_dict = {\"Review\":reviews, \"prob\":probs, \"classes\":classes}"
   ]
  },
  {
   "cell_type": "code",
   "execution_count": null,
   "metadata": {
    "colab": {
     "base_uri": "https://localhost:8080/",
     "height": 865
    },
    "id": "TLeukDeMYx1o",
    "outputId": "d140d6e0-2f03-4059-cef2-f8cb66bfd571"
   },
   "outputs": [
    {
     "data": {
      "text/html": [
       "\n",
       "  <div id=\"df-d36babd8-3d3b-49c9-bcbb-00e43769833c\">\n",
       "    <div class=\"colab-df-container\">\n",
       "      <div>\n",
       "<style scoped>\n",
       "    .dataframe tbody tr th:only-of-type {\n",
       "        vertical-align: middle;\n",
       "    }\n",
       "\n",
       "    .dataframe tbody tr th {\n",
       "        vertical-align: top;\n",
       "    }\n",
       "\n",
       "    .dataframe thead th {\n",
       "        text-align: right;\n",
       "    }\n",
       "</style>\n",
       "<table border=\"1\" class=\"dataframe\">\n",
       "  <thead>\n",
       "    <tr style=\"text-align: right;\">\n",
       "      <th></th>\n",
       "      <th>Review</th>\n",
       "      <th>prob</th>\n",
       "      <th>classes</th>\n",
       "    </tr>\n",
       "  </thead>\n",
       "  <tbody>\n",
       "    <tr>\n",
       "      <th>0</th>\n",
       "      <td>çok beğendim herkese tavsiye ederim</td>\n",
       "      <td>0.001321</td>\n",
       "      <td>0</td>\n",
       "    </tr>\n",
       "    <tr>\n",
       "      <th>1</th>\n",
       "      <td>süper ürün aynı gün elime geçti</td>\n",
       "      <td>0.002075</td>\n",
       "      <td>0</td>\n",
       "    </tr>\n",
       "    <tr>\n",
       "      <th>2</th>\n",
       "      <td>büyük bir hayal kırıklığı yaşadım bu ürünü bu markaya yakıştıramadım</td>\n",
       "      <td>0.998548</td>\n",
       "      <td>1</td>\n",
       "    </tr>\n",
       "    <tr>\n",
       "      <th>3</th>\n",
       "      <td>kelimelerle tarif edilemez</td>\n",
       "      <td>0.013376</td>\n",
       "      <td>0</td>\n",
       "    </tr>\n",
       "    <tr>\n",
       "      <th>4</th>\n",
       "      <td>tasarımı harika ancak kargo çok geç geldi ve ürün açılmıştı hayal kırıklığı gerçekten</td>\n",
       "      <td>0.987783</td>\n",
       "      <td>1</td>\n",
       "    </tr>\n",
       "    <tr>\n",
       "      <th>5</th>\n",
       "      <td>hiç resimde gösterildiği gibi değil</td>\n",
       "      <td>0.996733</td>\n",
       "      <td>1</td>\n",
       "    </tr>\n",
       "    <tr>\n",
       "      <th>6</th>\n",
       "      <td>kötü yorumlar gözümü korkutmuştu ancak hiçbir sorun yaşamadım teşekkürler</td>\n",
       "      <td>0.009441</td>\n",
       "      <td>0</td>\n",
       "    </tr>\n",
       "    <tr>\n",
       "      <th>7</th>\n",
       "      <td>hiç bu kadar kötü bir satıcıya denk gelmemiştim ürün siparişimi iptal ediyorum</td>\n",
       "      <td>0.998805</td>\n",
       "      <td>1</td>\n",
       "    </tr>\n",
       "    <tr>\n",
       "      <th>8</th>\n",
       "      <td>tam bir fiyat performans ürünü</td>\n",
       "      <td>0.001162</td>\n",
       "      <td>0</td>\n",
       "    </tr>\n",
       "    <tr>\n",
       "      <th>9</th>\n",
       "      <td>beklediğim gibi çıkmadı</td>\n",
       "      <td>0.998542</td>\n",
       "      <td>1</td>\n",
       "    </tr>\n",
       "    <tr>\n",
       "      <th>10</th>\n",
       "      <td>on numara beş yıldız</td>\n",
       "      <td>0.001691</td>\n",
       "      <td>0</td>\n",
       "    </tr>\n",
       "    <tr>\n",
       "      <th>11</th>\n",
       "      <td>bu kargoyu biran önce bırakın. yoksa üründe sıkıntı yok</td>\n",
       "      <td>0.039509</td>\n",
       "      <td>0</td>\n",
       "    </tr>\n",
       "    <tr>\n",
       "      <th>12</th>\n",
       "      <td>televizyonun görüntü kalitesi çok kötü, dün akşam evde arkadaşlarla toplandık. yedik, içtik, sohbet ettik. Sonra televizyonda Türkiye - İngiltere maçını seyrettik.</td>\n",
       "      <td>0.997752</td>\n",
       "      <td>1</td>\n",
       "    </tr>\n",
       "    <tr>\n",
       "      <th>13</th>\n",
       "      <td>1 gün gibi kısa bir sürede elime geçti. Ve bu fıyata süper bir ürün tavsiye ederim. Lakin eli büyük olan kişiler daha büyük modelini tercih edebilirler ortaboy ürün. Teşekkürler</td>\n",
       "      <td>0.003435</td>\n",
       "      <td>0</td>\n",
       "    </tr>\n",
       "    <tr>\n",
       "      <th>14</th>\n",
       "      <td>alınca anlarsın anyayı konyayı</td>\n",
       "      <td>0.064464</td>\n",
       "      <td>0</td>\n",
       "    </tr>\n",
       "    <tr>\n",
       "      <th>15</th>\n",
       "      <td>çöpe atacak paran varsa al</td>\n",
       "      <td>0.769937</td>\n",
       "      <td>1</td>\n",
       "    </tr>\n",
       "    <tr>\n",
       "      <th>16</th>\n",
       "      <td>Telefon çok da kötü değil</td>\n",
       "      <td>0.110453</td>\n",
       "      <td>0</td>\n",
       "    </tr>\n",
       "    <tr>\n",
       "      <th>17</th>\n",
       "      <td>al da gününü gör</td>\n",
       "      <td>0.022078</td>\n",
       "      <td>0</td>\n",
       "    </tr>\n",
       "    <tr>\n",
       "      <th>18</th>\n",
       "      <td>Ürün harika ama satıcı ve kargo berbat</td>\n",
       "      <td>0.376450</td>\n",
       "      <td>0</td>\n",
       "    </tr>\n",
       "    <tr>\n",
       "      <th>19</th>\n",
       "      <td>kargo süper ama ürün berbat</td>\n",
       "      <td>0.995298</td>\n",
       "      <td>1</td>\n",
       "    </tr>\n",
       "    <tr>\n",
       "      <th>20</th>\n",
       "      <td>Aldigim TV cok kaliteli diye dusunmustum, sonradan cok da iyi bir TV olmadigini dusundum, ama neyse yine de memnunum.</td>\n",
       "      <td>0.180840</td>\n",
       "      <td>0</td>\n",
       "    </tr>\n",
       "    <tr>\n",
       "      <th>21</th>\n",
       "      <td>😊</td>\n",
       "      <td>0.009348</td>\n",
       "      <td>0</td>\n",
       "    </tr>\n",
       "    <tr>\n",
       "      <th>22</th>\n",
       "      <td>:)</td>\n",
       "      <td>0.012466</td>\n",
       "      <td>0</td>\n",
       "    </tr>\n",
       "    <tr>\n",
       "      <th>23</th>\n",
       "      <td>I ❤️ you</td>\n",
       "      <td>0.016036</td>\n",
       "      <td>0</td>\n",
       "    </tr>\n",
       "    <tr>\n",
       "      <th>24</th>\n",
       "      <td>telefon kesinlikle bu parayı hak etmiyor. yeni hiç bir özelliği yok. ancak küçük ekran sevenler için iyi bir telefon</td>\n",
       "      <td>0.964064</td>\n",
       "      <td>1</td>\n",
       "    </tr>\n",
       "    <tr>\n",
       "      <th>25</th>\n",
       "      <td>müthiş bir telefon ama bu parayı hak etmiyor</td>\n",
       "      <td>0.710063</td>\n",
       "      <td>1</td>\n",
       "    </tr>\n",
       "  </tbody>\n",
       "</table>\n",
       "</div>\n",
       "      <button class=\"colab-df-convert\" onclick=\"convertToInteractive('df-d36babd8-3d3b-49c9-bcbb-00e43769833c')\"\n",
       "              title=\"Convert this dataframe to an interactive table.\"\n",
       "              style=\"display:none;\">\n",
       "        \n",
       "  <svg xmlns=\"http://www.w3.org/2000/svg\" height=\"24px\"viewBox=\"0 0 24 24\"\n",
       "       width=\"24px\">\n",
       "    <path d=\"M0 0h24v24H0V0z\" fill=\"none\"/>\n",
       "    <path d=\"M18.56 5.44l.94 2.06.94-2.06 2.06-.94-2.06-.94-.94-2.06-.94 2.06-2.06.94zm-11 1L8.5 8.5l.94-2.06 2.06-.94-2.06-.94L8.5 2.5l-.94 2.06-2.06.94zm10 10l.94 2.06.94-2.06 2.06-.94-2.06-.94-.94-2.06-.94 2.06-2.06.94z\"/><path d=\"M17.41 7.96l-1.37-1.37c-.4-.4-.92-.59-1.43-.59-.52 0-1.04.2-1.43.59L10.3 9.45l-7.72 7.72c-.78.78-.78 2.05 0 2.83L4 21.41c.39.39.9.59 1.41.59.51 0 1.02-.2 1.41-.59l7.78-7.78 2.81-2.81c.8-.78.8-2.07 0-2.86zM5.41 20L4 18.59l7.72-7.72 1.47 1.35L5.41 20z\"/>\n",
       "  </svg>\n",
       "      </button>\n",
       "      \n",
       "  <style>\n",
       "    .colab-df-container {\n",
       "      display:flex;\n",
       "      flex-wrap:wrap;\n",
       "      gap: 12px;\n",
       "    }\n",
       "\n",
       "    .colab-df-convert {\n",
       "      background-color: #E8F0FE;\n",
       "      border: none;\n",
       "      border-radius: 50%;\n",
       "      cursor: pointer;\n",
       "      display: none;\n",
       "      fill: #1967D2;\n",
       "      height: 32px;\n",
       "      padding: 0 0 0 0;\n",
       "      width: 32px;\n",
       "    }\n",
       "\n",
       "    .colab-df-convert:hover {\n",
       "      background-color: #E2EBFA;\n",
       "      box-shadow: 0px 1px 2px rgba(60, 64, 67, 0.3), 0px 1px 3px 1px rgba(60, 64, 67, 0.15);\n",
       "      fill: #174EA6;\n",
       "    }\n",
       "\n",
       "    [theme=dark] .colab-df-convert {\n",
       "      background-color: #3B4455;\n",
       "      fill: #D2E3FC;\n",
       "    }\n",
       "\n",
       "    [theme=dark] .colab-df-convert:hover {\n",
       "      background-color: #434B5C;\n",
       "      box-shadow: 0px 1px 3px 1px rgba(0, 0, 0, 0.15);\n",
       "      filter: drop-shadow(0px 1px 2px rgba(0, 0, 0, 0.3));\n",
       "      fill: #FFFFFF;\n",
       "    }\n",
       "  </style>\n",
       "\n",
       "      <script>\n",
       "        const buttonEl =\n",
       "          document.querySelector('#df-d36babd8-3d3b-49c9-bcbb-00e43769833c button.colab-df-convert');\n",
       "        buttonEl.style.display =\n",
       "          google.colab.kernel.accessAllowed ? 'block' : 'none';\n",
       "\n",
       "        async function convertToInteractive(key) {\n",
       "          const element = document.querySelector('#df-d36babd8-3d3b-49c9-bcbb-00e43769833c');\n",
       "          const dataTable =\n",
       "            await google.colab.kernel.invokeFunction('convertToInteractive',\n",
       "                                                     [key], {});\n",
       "          if (!dataTable) return;\n",
       "\n",
       "          const docLinkHtml = 'Like what you see? Visit the ' +\n",
       "            '<a target=\"_blank\" href=https://colab.research.google.com/notebooks/data_table.ipynb>data table notebook</a>'\n",
       "            + ' to learn more about interactive tables.';\n",
       "          element.innerHTML = '';\n",
       "          dataTable['output_type'] = 'display_data';\n",
       "          await google.colab.output.renderOutput(dataTable, element);\n",
       "          const docLink = document.createElement('div');\n",
       "          docLink.innerHTML = docLinkHtml;\n",
       "          element.appendChild(docLink);\n",
       "        }\n",
       "      </script>\n",
       "    </div>\n",
       "  </div>\n",
       "  "
      ],
      "text/plain": [
       "                                                                                                                                                                                Review  \\\n",
       "0                                                                                                                                                  çok beğendim herkese tavsiye ederim   \n",
       "1                                                                                                                                                      süper ürün aynı gün elime geçti   \n",
       "2                                                                                                                 büyük bir hayal kırıklığı yaşadım bu ürünü bu markaya yakıştıramadım   \n",
       "3                                                                                                                                                           kelimelerle tarif edilemez   \n",
       "4                                                                                                tasarımı harika ancak kargo çok geç geldi ve ürün açılmıştı hayal kırıklığı gerçekten   \n",
       "5                                                                                                                                                  hiç resimde gösterildiği gibi değil   \n",
       "6                                                                                                            kötü yorumlar gözümü korkutmuştu ancak hiçbir sorun yaşamadım teşekkürler   \n",
       "7                                                                                                       hiç bu kadar kötü bir satıcıya denk gelmemiştim ürün siparişimi iptal ediyorum   \n",
       "8                                                                                                                                                       tam bir fiyat performans ürünü   \n",
       "9                                                                                                                                                              beklediğim gibi çıkmadı   \n",
       "10                                                                                                                                                                on numara beş yıldız   \n",
       "11                                                                                                                             bu kargoyu biran önce bırakın. yoksa üründe sıkıntı yok   \n",
       "12                televizyonun görüntü kalitesi çok kötü, dün akşam evde arkadaşlarla toplandık. yedik, içtik, sohbet ettik. Sonra televizyonda Türkiye - İngiltere maçını seyrettik.    \n",
       "13  1 gün gibi kısa bir sürede elime geçti. Ve bu fıyata süper bir ürün tavsiye ederim. Lakin eli büyük olan kişiler daha büyük modelini tercih edebilirler ortaboy ürün. Teşekkürler    \n",
       "14                                                                                                                                                      alınca anlarsın anyayı konyayı   \n",
       "15                                                                                                                                                          çöpe atacak paran varsa al   \n",
       "16                                                                                                                                                           Telefon çok da kötü değil   \n",
       "17                                                                                                                                                                    al da gününü gör   \n",
       "18                                                                                                                                              Ürün harika ama satıcı ve kargo berbat   \n",
       "19                                                                                                                                                         kargo süper ama ürün berbat   \n",
       "20                                                               Aldigim TV cok kaliteli diye dusunmustum, sonradan cok da iyi bir TV olmadigini dusundum, ama neyse yine de memnunum.   \n",
       "21                                                                                                                                                                                   😊   \n",
       "22                                                                                                                                                                                  :)   \n",
       "23                                                                                                                                                                            I ❤️ you   \n",
       "24                                                                telefon kesinlikle bu parayı hak etmiyor. yeni hiç bir özelliği yok. ancak küçük ekran sevenler için iyi bir telefon   \n",
       "25                                                                                                                                        müthiş bir telefon ama bu parayı hak etmiyor   \n",
       "\n",
       "        prob  classes  \n",
       "0   0.001321        0  \n",
       "1   0.002075        0  \n",
       "2   0.998548        1  \n",
       "3   0.013376        0  \n",
       "4   0.987783        1  \n",
       "5   0.996733        1  \n",
       "6   0.009441        0  \n",
       "7   0.998805        1  \n",
       "8   0.001162        0  \n",
       "9   0.998542        1  \n",
       "10  0.001691        0  \n",
       "11  0.039509        0  \n",
       "12  0.997752        1  \n",
       "13  0.003435        0  \n",
       "14  0.064464        0  \n",
       "15  0.769937        1  \n",
       "16  0.110453        0  \n",
       "17  0.022078        0  \n",
       "18  0.376450        0  \n",
       "19  0.995298        1  \n",
       "20  0.180840        0  \n",
       "21  0.009348        0  \n",
       "22  0.012466        0  \n",
       "23  0.016036        0  \n",
       "24  0.964064        1  \n",
       "25  0.710063        1  "
      ]
     },
     "execution_count": 117,
     "metadata": {},
     "output_type": "execute_result"
    }
   ],
   "source": [
    "pd.set_option('display.max_colwidth', None)\n",
    "pd.DataFrame(my_dict)\n",
    "\n",
    "# 4. indexte hayal kırıklığı nın olumsuzda ağırlıklı bir keyword olduğunu öğrenmiş model \"harika\" geçmesine rağmen olumsuz olarak tahmin etmiş\n",
    "# Ürün harika ama satıcı ve kargo berbat : ürüne yapılan yorumu daha çok dikkate almış \n",
    "# kargo süper ama ürün berbat: ürüne yapılan yorumu dikkate almış\n",
    "\n",
    "# al da gününü gör, \"anyayı konyayı\"? neden bilemedi? Altta bakacağız\n",
    "\n",
    "# class chat soru: ben de bazı sonuçlar değişik hocam\n",
    "# Johnson H: karma yaptığı için tokenlere atanan katsayılarda farklılıklar olabilir. Ayrıca modelimizde ağırlıklandırma yaptığımız için\n",
    "# .. bazı olumlu yorumları da olumsuz görebiliriz çünkü olumsuzları tahmin etmeye ağırlık ver demiştik"
   ]
  },
  {
   "cell_type": "code",
   "execution_count": null,
   "metadata": {
    "colab": {
     "base_uri": "https://localhost:8080/"
    },
    "id": "d5ImVzx1sBVt",
    "outputId": "ee3a2ff7-55a7-44b5-d807-2509f0a0ddd6"
   },
   "outputs": [
    {
     "name": "stdout",
     "output_type": "stream",
     "text": [
      "0\n"
     ]
    }
   ],
   "source": [
    "count=0\n",
    "for i in X_train:\n",
    "  if \"gününü gör\" in i.lower():\n",
    "    count+=1\n",
    "print(count)\n",
    "\n",
    "# gününü gör: Data bunu train de görmemiş hiç . Model bunun olumsuz bir yorum içinde kullanıldığını öğrenememiş"
   ]
  },
  {
   "cell_type": "code",
   "execution_count": null,
   "metadata": {
    "colab": {
     "base_uri": "https://localhost:8080/"
    },
    "id": "euKZ9NFPVmee",
    "outputId": "3b83b6bc-063f-4675-e697-84d3e60342b9"
   },
   "outputs": [
    {
     "name": "stdout",
     "output_type": "stream",
     "text": [
      "0\n"
     ]
    }
   ],
   "source": [
    "count=0\n",
    "for i in X_train:\n",
    "  if \"anyayı konyayı\" in i.lower():\n",
    "    count+=1\n",
    "print(count)\n",
    "\n",
    "# anyayı konyayı: Data bunu train de görmemiş hiç . Model bunun olumsuz bir yorum içinde kullanıldığını öğrenememiş"
   ]
  },
  {
   "cell_type": "code",
   "execution_count": null,
   "metadata": {
    "colab": {
     "base_uri": "https://localhost:8080/"
    },
    "id": "hGjWw_xgsQVa",
    "outputId": "451a74b3-ac76-4fce-b2ea-83286b9f5995"
   },
   "outputs": [
    {
     "name": "stdout",
     "output_type": "stream",
     "text": [
      "158068\n",
      "218693\n",
      "2\n"
     ]
    }
   ],
   "source": [
    "count=0\n",
    "for i, j in enumerate(X):\n",
    "  if \"çöpe atacak paran\" in j.lower() and y[i]==1:\n",
    "    count+=1\n",
    "    print(i)\n",
    "print(count)"
   ]
  },
  {
   "cell_type": "code",
   "execution_count": null,
   "metadata": {
    "colab": {
     "base_uri": "https://localhost:8080/",
     "height": 35
    },
    "id": "jBcD3a0tCwAI",
    "outputId": "2475460a-6cb4-4e93-e76d-8cd0295472f6"
   },
   "outputs": [
    {
     "data": {
      "application/vnd.google.colaboratory.intrinsic+json": {
       "type": "string"
      },
      "text/plain": [
       "'beş para etmez çöpe atacak paranız varsa alın'"
      ]
     },
     "execution_count": 121,
     "metadata": {},
     "output_type": "execute_result"
    }
   ],
   "source": [
    "X[158068]"
   ]
  },
  {
   "cell_type": "code",
   "execution_count": null,
   "metadata": {
    "id": "JmvqTUzoVDMx"
   },
   "outputs": [],
   "source": [
    "# class chat: tokenizationda türkceyi yükledik ama ingilizce yorumu da bildi, ingilizce default mu acaba,baska dilde yorum olsaydi onda da tahmin yapabilir miydi?\n",
    "# Johnson H: Bert Turk, google ın sağladığı datalar üzerinde eğitmiş ama ingilizce yorumu yakalamış olması ile ilgili net bir şey söyleyemem\n",
    "# .. ama bert-turk ün eğitiminin tamamen türkçe üzerinde olduğunu biliyorum. \n",
    "# .. class chat cevap : İngilizce olduğundan değil de data içerisinde var olduğundan olabilir(johnson H: bu da olabilir evet)\n",
    "\n",
    "\n",
    "# Bundan sonra hep BERT modellerini ya da hazır modelleri tercih etmemiz daha iyi olur.\n",
    "# Ders sonu : TSI: 13:19"
   ]
  }
 ],
 "metadata": {
  "accelerator": "TPU",
  "colab": {
   "collapsed_sections": [],
   "provenance": []
  },
  "gpuClass": "standard",
  "kernelspec": {
   "display_name": "Python 3 (ipykernel)",
   "language": "python",
   "name": "python3"
  },
  "language_info": {
   "codemirror_mode": {
    "name": "ipython",
    "version": 3
   },
   "file_extension": ".py",
   "mimetype": "text/x-python",
   "name": "python",
   "nbconvert_exporter": "python",
   "pygments_lexer": "ipython3",
   "version": "3.8.5"
  },
  "widgets": {
   "application/vnd.jupyter.widget-state+json": {
    "165bb0e229d04633a0c7ca6ede13e9ba": {
     "model_module": "@jupyter-widgets/controls",
     "model_module_version": "1.5.0",
     "model_name": "HBoxModel",
     "state": {
      "_dom_classes": [],
      "_model_module": "@jupyter-widgets/controls",
      "_model_module_version": "1.5.0",
      "_model_name": "HBoxModel",
      "_view_count": null,
      "_view_module": "@jupyter-widgets/controls",
      "_view_module_version": "1.5.0",
      "_view_name": "HBoxView",
      "box_style": "",
      "children": [
       "IPY_MODEL_8016a5e46c494fd4bd52693add8a3d03",
       "IPY_MODEL_ed7326880a2e430aa37b0535ab2663e8",
       "IPY_MODEL_5b9214982aaf436e891129c7977040a0"
      ],
      "layout": "IPY_MODEL_9835e831ec5641239efa2cd3f6cf1bde"
     }
    },
    "16fa04f158294b76ae3ebf1fdde72573": {
     "model_module": "@jupyter-widgets/base",
     "model_module_version": "1.2.0",
     "model_name": "LayoutModel",
     "state": {
      "_model_module": "@jupyter-widgets/base",
      "_model_module_version": "1.2.0",
      "_model_name": "LayoutModel",
      "_view_count": null,
      "_view_module": "@jupyter-widgets/base",
      "_view_module_version": "1.2.0",
      "_view_name": "LayoutView",
      "align_content": null,
      "align_items": null,
      "align_self": null,
      "border": null,
      "bottom": null,
      "display": null,
      "flex": null,
      "flex_flow": null,
      "grid_area": null,
      "grid_auto_columns": null,
      "grid_auto_flow": null,
      "grid_auto_rows": null,
      "grid_column": null,
      "grid_gap": null,
      "grid_row": null,
      "grid_template_areas": null,
      "grid_template_columns": null,
      "grid_template_rows": null,
      "height": null,
      "justify_content": null,
      "justify_items": null,
      "left": null,
      "margin": null,
      "max_height": null,
      "max_width": null,
      "min_height": null,
      "min_width": null,
      "object_fit": null,
      "object_position": null,
      "order": null,
      "overflow": null,
      "overflow_x": null,
      "overflow_y": null,
      "padding": null,
      "right": null,
      "top": null,
      "visibility": null,
      "width": null
     }
    },
    "427e81a76e3d4d679ca80e9da85e7dca": {
     "model_module": "@jupyter-widgets/controls",
     "model_module_version": "1.5.0",
     "model_name": "DescriptionStyleModel",
     "state": {
      "_model_module": "@jupyter-widgets/controls",
      "_model_module_version": "1.5.0",
      "_model_name": "DescriptionStyleModel",
      "_view_count": null,
      "_view_module": "@jupyter-widgets/base",
      "_view_module_version": "1.2.0",
      "_view_name": "StyleView",
      "description_width": ""
     }
    },
    "445bdffd60d24f61b79c557ffe4560c4": {
     "model_module": "@jupyter-widgets/controls",
     "model_module_version": "1.5.0",
     "model_name": "ProgressStyleModel",
     "state": {
      "_model_module": "@jupyter-widgets/controls",
      "_model_module_version": "1.5.0",
      "_model_name": "ProgressStyleModel",
      "_view_count": null,
      "_view_module": "@jupyter-widgets/base",
      "_view_module_version": "1.2.0",
      "_view_name": "StyleView",
      "bar_color": null,
      "description_width": ""
     }
    },
    "5b9214982aaf436e891129c7977040a0": {
     "model_module": "@jupyter-widgets/controls",
     "model_module_version": "1.5.0",
     "model_name": "HTMLModel",
     "state": {
      "_dom_classes": [],
      "_model_module": "@jupyter-widgets/controls",
      "_model_module_version": "1.5.0",
      "_model_name": "HTMLModel",
      "_view_count": null,
      "_view_module": "@jupyter-widgets/controls",
      "_view_module_version": "1.5.0",
      "_view_name": "HTMLView",
      "description": "",
      "description_tooltip": null,
      "layout": "IPY_MODEL_16fa04f158294b76ae3ebf1fdde72573",
      "placeholder": "​",
      "style": "IPY_MODEL_a90f3d848db6495b9d2ad16ddedb018b",
      "value": " 0/0 [00:00&lt;?, ?it/s]"
     }
    },
    "72f6a23b832c4db8b68d5b1dc5ff0281": {
     "model_module": "@jupyter-widgets/base",
     "model_module_version": "1.2.0",
     "model_name": "LayoutModel",
     "state": {
      "_model_module": "@jupyter-widgets/base",
      "_model_module_version": "1.2.0",
      "_model_name": "LayoutModel",
      "_view_count": null,
      "_view_module": "@jupyter-widgets/base",
      "_view_module_version": "1.2.0",
      "_view_name": "LayoutView",
      "align_content": null,
      "align_items": null,
      "align_self": null,
      "border": null,
      "bottom": null,
      "display": null,
      "flex": null,
      "flex_flow": null,
      "grid_area": null,
      "grid_auto_columns": null,
      "grid_auto_flow": null,
      "grid_auto_rows": null,
      "grid_column": null,
      "grid_gap": null,
      "grid_row": null,
      "grid_template_areas": null,
      "grid_template_columns": null,
      "grid_template_rows": null,
      "height": null,
      "justify_content": null,
      "justify_items": null,
      "left": null,
      "margin": null,
      "max_height": null,
      "max_width": null,
      "min_height": null,
      "min_width": null,
      "object_fit": null,
      "object_position": null,
      "order": null,
      "overflow": null,
      "overflow_x": null,
      "overflow_y": null,
      "padding": null,
      "right": null,
      "top": null,
      "visibility": null,
      "width": null
     }
    },
    "8016a5e46c494fd4bd52693add8a3d03": {
     "model_module": "@jupyter-widgets/controls",
     "model_module_version": "1.5.0",
     "model_name": "HTMLModel",
     "state": {
      "_dom_classes": [],
      "_model_module": "@jupyter-widgets/controls",
      "_model_module_version": "1.5.0",
      "_model_name": "HTMLModel",
      "_view_count": null,
      "_view_module": "@jupyter-widgets/controls",
      "_view_module_version": "1.5.0",
      "_view_name": "HTMLView",
      "description": "",
      "description_tooltip": null,
      "layout": "IPY_MODEL_72f6a23b832c4db8b68d5b1dc5ff0281",
      "placeholder": "​",
      "style": "IPY_MODEL_427e81a76e3d4d679ca80e9da85e7dca",
      "value": ""
     }
    },
    "980ca13cc4fe4d2ea88f547a61e5ced7": {
     "model_module": "@jupyter-widgets/base",
     "model_module_version": "1.2.0",
     "model_name": "LayoutModel",
     "state": {
      "_model_module": "@jupyter-widgets/base",
      "_model_module_version": "1.2.0",
      "_model_name": "LayoutModel",
      "_view_count": null,
      "_view_module": "@jupyter-widgets/base",
      "_view_module_version": "1.2.0",
      "_view_name": "LayoutView",
      "align_content": null,
      "align_items": null,
      "align_self": null,
      "border": null,
      "bottom": null,
      "display": null,
      "flex": null,
      "flex_flow": null,
      "grid_area": null,
      "grid_auto_columns": null,
      "grid_auto_flow": null,
      "grid_auto_rows": null,
      "grid_column": null,
      "grid_gap": null,
      "grid_row": null,
      "grid_template_areas": null,
      "grid_template_columns": null,
      "grid_template_rows": null,
      "height": null,
      "justify_content": null,
      "justify_items": null,
      "left": null,
      "margin": null,
      "max_height": null,
      "max_width": null,
      "min_height": null,
      "min_width": null,
      "object_fit": null,
      "object_position": null,
      "order": null,
      "overflow": null,
      "overflow_x": null,
      "overflow_y": null,
      "padding": null,
      "right": null,
      "top": null,
      "visibility": null,
      "width": "20px"
     }
    },
    "9835e831ec5641239efa2cd3f6cf1bde": {
     "model_module": "@jupyter-widgets/base",
     "model_module_version": "1.2.0",
     "model_name": "LayoutModel",
     "state": {
      "_model_module": "@jupyter-widgets/base",
      "_model_module_version": "1.2.0",
      "_model_name": "LayoutModel",
      "_view_count": null,
      "_view_module": "@jupyter-widgets/base",
      "_view_module_version": "1.2.0",
      "_view_name": "LayoutView",
      "align_content": null,
      "align_items": null,
      "align_self": null,
      "border": null,
      "bottom": null,
      "display": null,
      "flex": null,
      "flex_flow": null,
      "grid_area": null,
      "grid_auto_columns": null,
      "grid_auto_flow": null,
      "grid_auto_rows": null,
      "grid_column": null,
      "grid_gap": null,
      "grid_row": null,
      "grid_template_areas": null,
      "grid_template_columns": null,
      "grid_template_rows": null,
      "height": null,
      "justify_content": null,
      "justify_items": null,
      "left": null,
      "margin": null,
      "max_height": null,
      "max_width": null,
      "min_height": null,
      "min_width": null,
      "object_fit": null,
      "object_position": null,
      "order": null,
      "overflow": null,
      "overflow_x": null,
      "overflow_y": null,
      "padding": null,
      "right": null,
      "top": null,
      "visibility": null,
      "width": null
     }
    },
    "a90f3d848db6495b9d2ad16ddedb018b": {
     "model_module": "@jupyter-widgets/controls",
     "model_module_version": "1.5.0",
     "model_name": "DescriptionStyleModel",
     "state": {
      "_model_module": "@jupyter-widgets/controls",
      "_model_module_version": "1.5.0",
      "_model_name": "DescriptionStyleModel",
      "_view_count": null,
      "_view_module": "@jupyter-widgets/base",
      "_view_module_version": "1.2.0",
      "_view_name": "StyleView",
      "description_width": ""
     }
    },
    "ed7326880a2e430aa37b0535ab2663e8": {
     "model_module": "@jupyter-widgets/controls",
     "model_module_version": "1.5.0",
     "model_name": "FloatProgressModel",
     "state": {
      "_dom_classes": [],
      "_model_module": "@jupyter-widgets/controls",
      "_model_module_version": "1.5.0",
      "_model_name": "FloatProgressModel",
      "_view_count": null,
      "_view_module": "@jupyter-widgets/controls",
      "_view_module_version": "1.5.0",
      "_view_name": "ProgressView",
      "bar_style": "success",
      "description": "",
      "description_tooltip": null,
      "layout": "IPY_MODEL_980ca13cc4fe4d2ea88f547a61e5ced7",
      "max": 1,
      "min": 0,
      "orientation": "horizontal",
      "style": "IPY_MODEL_445bdffd60d24f61b79c557ffe4560c4",
      "value": 0
     }
    }
   }
  }
 },
 "nbformat": 4,
 "nbformat_minor": 1
}
